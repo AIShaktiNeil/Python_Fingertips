{
 "cells": [
  {
   "cell_type": "code",
   "execution_count": 14,
   "id": "437d9f97-7ec6-4768-a6a3-7ceac9f38ba3",
   "metadata": {},
   "outputs": [],
   "source": [
    "ft = 10.20"
   ]
  },
  {
   "cell_type": "code",
   "execution_count": 15,
   "id": "ba04c24e-8d9e-4e01-9b9e-edd7ef30c51a",
   "metadata": {},
   "outputs": [
    {
     "data": {
      "text/plain": [
       "float"
      ]
     },
     "execution_count": 15,
     "metadata": {},
     "output_type": "execute_result"
    }
   ],
   "source": [
    "type(ft)"
   ]
  },
  {
   "cell_type": "code",
   "execution_count": 2,
   "id": "6e00815a-2942-44c8-b125-ff7ababadd2d",
   "metadata": {},
   "outputs": [],
   "source": [
    "a = \"Neil\""
   ]
  },
  {
   "cell_type": "code",
   "execution_count": 16,
   "id": "71a6ba80-156e-4110-bf36-45b0296217ae",
   "metadata": {},
   "outputs": [],
   "source": [
    "st = 10.10"
   ]
  },
  {
   "cell_type": "code",
   "execution_count": 4,
   "id": "a986c4e0-7b82-4b6f-80f0-8551df65f0b0",
   "metadata": {},
   "outputs": [
    {
     "data": {
      "text/plain": [
       "10"
      ]
     },
     "execution_count": 4,
     "metadata": {},
     "output_type": "execute_result"
    }
   ],
   "source": [
    "st"
   ]
  },
  {
   "cell_type": "code",
   "execution_count": 17,
   "id": "37139933-03d4-436d-ad9c-59288e464f96",
   "metadata": {},
   "outputs": [
    {
     "data": {
      "text/plain": [
       "float"
      ]
     },
     "execution_count": 17,
     "metadata": {},
     "output_type": "execute_result"
    }
   ],
   "source": [
    "type(st)"
   ]
  },
  {
   "cell_type": "code",
   "execution_count": 19,
   "id": "e18645a9-0c85-4068-9185-bd3eaf6c8fac",
   "metadata": {},
   "outputs": [
    {
     "data": {
      "text/plain": [
       "10"
      ]
     },
     "execution_count": 19,
     "metadata": {},
     "output_type": "execute_result"
    }
   ],
   "source": [
    "int(st)"
   ]
  },
  {
   "cell_type": "code",
   "execution_count": 6,
   "id": "29785fcf-f3fa-4325-9b53-905c51d2878f",
   "metadata": {},
   "outputs": [],
   "source": [
    "st = str (st)"
   ]
  },
  {
   "cell_type": "code",
   "execution_count": 7,
   "id": "f76de07f-c4e3-4574-aec3-0b6076673743",
   "metadata": {},
   "outputs": [
    {
     "data": {
      "text/plain": [
       "'10'"
      ]
     },
     "execution_count": 7,
     "metadata": {},
     "output_type": "execute_result"
    }
   ],
   "source": [
    "st"
   ]
  },
  {
   "cell_type": "code",
   "execution_count": 9,
   "id": "408cef04-80e5-441f-abca-418f71596bbe",
   "metadata": {},
   "outputs": [],
   "source": [
    "st = bool(st)   # 0 == faalse ,0> any number =true"
   ]
  },
  {
   "cell_type": "code",
   "execution_count": 10,
   "id": "e7227481-192b-4ac0-b6ae-a944ccd71f51",
   "metadata": {},
   "outputs": [
    {
     "data": {
      "text/plain": [
       "True"
      ]
     },
     "execution_count": 10,
     "metadata": {},
     "output_type": "execute_result"
    }
   ],
   "source": [
    "st"
   ]
  },
  {
   "cell_type": "code",
   "execution_count": 11,
   "id": "61a3d4cd-1697-473e-a07a-0169a7188233",
   "metadata": {},
   "outputs": [],
   "source": [
    "st = '10'\n",
    "st1 = '21'"
   ]
  },
  {
   "cell_type": "code",
   "execution_count": 12,
   "id": "b9799f74-85fc-4d1b-8e41-75197955be57",
   "metadata": {},
   "outputs": [
    {
     "data": {
      "text/plain": [
       "'1021'"
      ]
     },
     "execution_count": 12,
     "metadata": {},
     "output_type": "execute_result"
    }
   ],
   "source": [
    "st + st1"
   ]
  },
  {
   "cell_type": "code",
   "execution_count": 21,
   "id": "0031eb00-298b-4d27-8999-5627e15ffc36",
   "metadata": {},
   "outputs": [
    {
     "data": {
      "text/plain": [
       "31"
      ]
     },
     "execution_count": 21,
     "metadata": {},
     "output_type": "execute_result"
    }
   ],
   "source": [
    "int(st) + int(st1)"
   ]
  },
  {
   "cell_type": "code",
   "execution_count": 23,
   "id": "56423081-bba0-479c-a200-cda2526cf082",
   "metadata": {},
   "outputs": [
    {
     "data": {
      "text/plain": [
       "10"
      ]
     },
     "execution_count": 23,
     "metadata": {},
     "output_type": "execute_result"
    }
   ],
   "source": [
    " int(st)"
   ]
  },
  {
   "cell_type": "code",
   "execution_count": 24,
   "id": "620c854d-cdd4-42b1-839c-3225b51949f3",
   "metadata": {},
   "outputs": [
    {
     "data": {
      "text/plain": [
       "10.0"
      ]
     },
     "execution_count": 24,
     "metadata": {},
     "output_type": "execute_result"
    }
   ],
   "source": [
    "float(st)"
   ]
  },
  {
   "cell_type": "code",
   "execution_count": 24,
   "id": "7e757998-8083-49f4-83be-10d5976f181d",
   "metadata": {},
   "outputs": [],
   "source": [
    "a=20\n",
    "b = 30\n",
    " "
   ]
  },
  {
   "cell_type": "code",
   "execution_count": null,
   "id": "6155e222-7ceb-4475-86d0-6891a4636bb1",
   "metadata": {},
   "outputs": [],
   "source": [
    "#arithmatic operator"
   ]
  },
  {
   "cell_type": "code",
   "execution_count": 26,
   "id": "db064c6e-89b7-4c9e-9f4c-d42b1264764b",
   "metadata": {},
   "outputs": [
    {
     "data": {
      "text/plain": [
       "0"
      ]
     },
     "execution_count": 26,
     "metadata": {},
     "output_type": "execute_result"
    }
   ],
   "source": [
    "a//b   # remainder float division"
   ]
  },
  {
   "cell_type": "code",
   "execution_count": 27,
   "id": "5cf0c41c-5ddf-45c0-bf71-195f58a30ac5",
   "metadata": {},
   "outputs": [
    {
     "data": {
      "text/plain": [
       "20"
      ]
     },
     "execution_count": 27,
     "metadata": {},
     "output_type": "execute_result"
    }
   ],
   "source": [
    "a % b # mod"
   ]
  },
  {
   "cell_type": "code",
   "execution_count": 28,
   "id": "b83cb45d-80f8-41ed-bd3d-e6e684c469e6",
   "metadata": {},
   "outputs": [
    {
     "data": {
      "text/plain": [
       "1073741824000000000000000000000000000000"
      ]
     },
     "execution_count": 28,
     "metadata": {},
     "output_type": "execute_result"
    }
   ],
   "source": [
    "a**b   # a to the power b times"
   ]
  },
  {
   "cell_type": "code",
   "execution_count": 29,
   "id": "afa96b03-a843-440a-8f7e-eacf25edd66f",
   "metadata": {},
   "outputs": [
    {
     "data": {
      "text/plain": [
       "16"
      ]
     },
     "execution_count": 29,
     "metadata": {},
     "output_type": "execute_result"
    }
   ],
   "source": [
    " 4**2"
   ]
  },
  {
   "cell_type": "code",
   "execution_count": 30,
   "id": "98883030-d2bb-4d0a-9b03-9bf5015dedb1",
   "metadata": {},
   "outputs": [],
   "source": [
    "# assignment operator\n",
    "+=,-=,*=,/=, //=, **=, %= , ="
   ]
  },
  {
   "cell_type": "code",
   "execution_count": 41,
   "id": "c6265079-efce-4718-849d-14b3020d4e61",
   "metadata": {},
   "outputs": [],
   "source": [
    "a+=10"
   ]
  },
  {
   "cell_type": "code",
   "execution_count": 42,
   "id": "38465d0f-87a3-4566-95e9-dc278dc49b80",
   "metadata": {},
   "outputs": [
    {
     "data": {
      "text/plain": [
       "30"
      ]
     },
     "execution_count": 42,
     "metadata": {},
     "output_type": "execute_result"
    }
   ],
   "source": [
    "a"
   ]
  },
  {
   "cell_type": "code",
   "execution_count": 43,
   "id": "cb81e082-c012-463b-8ac8-3864aaa69984",
   "metadata": {},
   "outputs": [],
   "source": [
    "b = 10"
   ]
  },
  {
   "cell_type": "code",
   "execution_count": 44,
   "id": "d98e6cca-dc90-44de-88db-f62b264f5ff7",
   "metadata": {},
   "outputs": [],
   "source": [
    "b+=30"
   ]
  },
  {
   "cell_type": "code",
   "execution_count": 45,
   "id": "078c2482-2dd1-401d-8562-0de963405447",
   "metadata": {},
   "outputs": [
    {
     "data": {
      "text/plain": [
       "40"
      ]
     },
     "execution_count": 45,
     "metadata": {},
     "output_type": "execute_result"
    }
   ],
   "source": [
    "b"
   ]
  },
  {
   "cell_type": "code",
   "execution_count": 46,
   "id": "b4d1cc9a-a6a5-421e-b69a-e8a2a3e33863",
   "metadata": {},
   "outputs": [],
   "source": [
    "b = 50"
   ]
  },
  {
   "cell_type": "code",
   "execution_count": 47,
   "id": "fd53a739-a7b1-4165-a447-340ba33b2e7c",
   "metadata": {},
   "outputs": [],
   "source": [
    "b-=10"
   ]
  },
  {
   "cell_type": "code",
   "execution_count": 48,
   "id": "24e0c21c-1be6-478d-b1e8-94e853959a34",
   "metadata": {},
   "outputs": [
    {
     "data": {
      "text/plain": [
       "40"
      ]
     },
     "execution_count": 48,
     "metadata": {},
     "output_type": "execute_result"
    }
   ],
   "source": [
    "b"
   ]
  },
  {
   "cell_type": "code",
   "execution_count": 49,
   "id": "87685f8e-4fd0-43e5-b1ac-f9f368488dcb",
   "metadata": {},
   "outputs": [],
   "source": [
    "b*=10"
   ]
  },
  {
   "cell_type": "code",
   "execution_count": 50,
   "id": "d65f3933-da06-44d1-b5ae-f7e9090e2333",
   "metadata": {},
   "outputs": [
    {
     "data": {
      "text/plain": [
       "400"
      ]
     },
     "execution_count": 50,
     "metadata": {},
     "output_type": "execute_result"
    }
   ],
   "source": [
    "b"
   ]
  },
  {
   "cell_type": "code",
   "execution_count": 53,
   "id": "4067b6be-4aae-4a7a-b351-747cca49d3a6",
   "metadata": {},
   "outputs": [],
   "source": [
    "b**=10"
   ]
  },
  {
   "cell_type": "code",
   "execution_count": 54,
   "id": "dfd9df92-43fe-4aee-9251-f9cc05abc886",
   "metadata": {},
   "outputs": [
    {
     "data": {
      "text/plain": [
       "10485760000000000"
      ]
     },
     "execution_count": 54,
     "metadata": {},
     "output_type": "execute_result"
    }
   ],
   "source": [
    "b"
   ]
  },
  {
   "cell_type": "code",
   "execution_count": 55,
   "id": "13f3a443-db5a-4985-84e4-c16f62e29659",
   "metadata": {},
   "outputs": [],
   "source": [
    "b//=10"
   ]
  },
  {
   "cell_type": "code",
   "execution_count": 56,
   "id": "bfad4dc7-bf93-4a10-a6c9-c02cb6e2ffc4",
   "metadata": {},
   "outputs": [
    {
     "data": {
      "text/plain": [
       "1048576000000000"
      ]
     },
     "execution_count": 56,
     "metadata": {},
     "output_type": "execute_result"
    }
   ],
   "source": [
    "b"
   ]
  },
  {
   "cell_type": "code",
   "execution_count": 57,
   "id": "8427d60e-29da-4f41-a889-2fa96635e06c",
   "metadata": {},
   "outputs": [],
   "source": [
    "b/=100"
   ]
  },
  {
   "cell_type": "code",
   "execution_count": 58,
   "id": "1f8d273a-4964-4e09-af5a-397cea52fe06",
   "metadata": {},
   "outputs": [
    {
     "data": {
      "text/plain": [
       "10485760000000.0"
      ]
     },
     "execution_count": 58,
     "metadata": {},
     "output_type": "execute_result"
    }
   ],
   "source": [
    "b"
   ]
  },
  {
   "cell_type": "code",
   "execution_count": 59,
   "id": "b5033a36-87bf-437f-9e80-8716a74d74e9",
   "metadata": {},
   "outputs": [],
   "source": [
    "b%=100"
   ]
  },
  {
   "cell_type": "code",
   "execution_count": 60,
   "id": "cd60f804-e225-45b8-9b2a-6abf1ceef272",
   "metadata": {},
   "outputs": [
    {
     "data": {
      "text/plain": [
       "0.0"
      ]
     },
     "execution_count": 60,
     "metadata": {},
     "output_type": "execute_result"
    }
   ],
   "source": [
    "b"
   ]
  },
  {
   "cell_type": "code",
   "execution_count": 58,
   "id": "63d8803e-d110-455d-9b7e-de2b4f360506",
   "metadata": {},
   "outputs": [
    {
     "data": {
      "text/plain": [
       "True"
      ]
     },
     "execution_count": 58,
     "metadata": {},
     "output_type": "execute_result"
    }
   ],
   "source": [
    "\"h\" in \"helloe\""
   ]
  },
  {
   "cell_type": "code",
   "execution_count": 61,
   "id": "f7bfd04b-4405-42c1-8752-36dc174bae8e",
   "metadata": {},
   "outputs": [
    {
     "data": {
      "text/plain": [
       "True"
      ]
     },
     "execution_count": 61,
     "metadata": {},
     "output_type": "execute_result"
    }
   ],
   "source": [
    "\"hello\" == \"hello\""
   ]
  },
  {
   "cell_type": "code",
   "execution_count": 60,
   "id": "23d246f7-72f5-4af0-b701-cc3b931640fd",
   "metadata": {},
   "outputs": [
    {
     "data": {
      "text/plain": [
       "True"
      ]
     },
     "execution_count": 60,
     "metadata": {},
     "output_type": "execute_result"
    }
   ],
   "source": [
    "20!=10"
   ]
  },
  {
   "cell_type": "code",
   "execution_count": 62,
   "id": "4a60f5af-1d72-4b1f-aacc-17f870de564d",
   "metadata": {},
   "outputs": [
    {
     "data": {
      "text/plain": [
       "False"
      ]
     },
     "execution_count": 62,
     "metadata": {},
     "output_type": "execute_result"
    }
   ],
   "source": [
    "10>100"
   ]
  },
  {
   "cell_type": "code",
   "execution_count": 63,
   "id": "87710857-1691-4ec3-804f-613506d33110",
   "metadata": {},
   "outputs": [
    {
     "data": {
      "text/plain": [
       "True"
      ]
     },
     "execution_count": 63,
     "metadata": {},
     "output_type": "execute_result"
    }
   ],
   "source": [
    "10<=20"
   ]
  },
  {
   "cell_type": "code",
   "execution_count": 64,
   "id": "5beb0af6-16db-4e40-99f3-2ad6313f0ca2",
   "metadata": {},
   "outputs": [
    {
     "name": "stdin",
     "output_type": "stream",
     "text": [
      "enter a number 10\n"
     ]
    }
   ],
   "source": [
    "num =input(\"enter a number\")  #shift+Tab gives function info"
   ]
  },
  {
   "cell_type": "code",
   "execution_count": 65,
   "id": "002d9f9e-d7ba-43f9-a493-6bd51a3a970b",
   "metadata": {},
   "outputs": [],
   "source": [
    "num = int(num)"
   ]
  },
  {
   "cell_type": "code",
   "execution_count": 66,
   "id": "62357b0a-d79d-4380-8cdc-bb6de3f3d8f2",
   "metadata": {},
   "outputs": [
    {
     "data": {
      "text/plain": [
       "10"
      ]
     },
     "execution_count": 66,
     "metadata": {},
     "output_type": "execute_result"
    }
   ],
   "source": [
    "num"
   ]
  },
  {
   "cell_type": "code",
   "execution_count": 67,
   "id": "f39a550a-4f09-4a65-b45c-e9a7039d8290",
   "metadata": {},
   "outputs": [
    {
     "data": {
      "text/plain": [
       "False"
      ]
     },
     "execution_count": 67,
     "metadata": {},
     "output_type": "execute_result"
    }
   ],
   "source": [
    "(num<5) or (num>15)"
   ]
  },
  {
   "cell_type": "code",
   "execution_count": 68,
   "id": "f0d62f8d-2a47-4be1-8016-c0b09ad08f9d",
   "metadata": {},
   "outputs": [
    {
     "data": {
      "text/plain": [
       "False"
      ]
     },
     "execution_count": 68,
     "metadata": {},
     "output_type": "execute_result"
    }
   ],
   "source": [
    "not(True)"
   ]
  },
  {
   "cell_type": "code",
   "execution_count": 69,
   "id": "bd077db5-c1d8-4911-9c2f-e005a5658c40",
   "metadata": {},
   "outputs": [
    {
     "data": {
      "text/plain": [
       "<function print(*args, sep=' ', end='\\n', file=None, flush=False)>"
      ]
     },
     "execution_count": 69,
     "metadata": {},
     "output_type": "execute_result"
    }
   ],
   "source": [
    "print\n"
   ]
  },
  {
   "cell_type": "code",
   "execution_count": 1,
   "id": "88f928b6-b73d-4d5a-8e70-fb4466d5a703",
   "metadata": {},
   "outputs": [
    {
     "name": "stdin",
     "output_type": "stream",
     "text": [
      "enter anything in your mind 55\n"
     ]
    }
   ],
   "source": [
    "sum = bool(input(\"enter anything in your mind\"))"
   ]
  },
  {
   "cell_type": "code",
   "execution_count": 74,
   "id": "7c96a09c-bb42-4e4e-96e2-31005da2a6e3",
   "metadata": {},
   "outputs": [
    {
     "data": {
      "text/plain": [
       "True"
      ]
     },
     "execution_count": 74,
     "metadata": {},
     "output_type": "execute_result"
    }
   ],
   "source": [
    "sum"
   ]
  },
  {
   "cell_type": "code",
   "execution_count": 2,
   "id": "801228e5-166c-426a-8e32-0b672acddd63",
   "metadata": {},
   "outputs": [
    {
     "data": {
      "text/plain": [
       "10"
      ]
     },
     "execution_count": 2,
     "metadata": {},
     "output_type": "execute_result"
    }
   ],
   "source": [
    "st = \"fingertips\"\n",
    "len(st)"
   ]
  },
  {
   "cell_type": "code",
   "execution_count": 4,
   "id": "3a1afcbf-0eae-4b01-999b-931000e024e9",
   "metadata": {},
   "outputs": [
    {
     "data": {
      "text/plain": [
       "'g'"
      ]
     },
     "execution_count": 4,
     "metadata": {},
     "output_type": "execute_result"
    }
   ],
   "source": [
    "st[3]"
   ]
  },
  {
   "cell_type": "code",
   "execution_count": 11,
   "id": "8ffed018-2ac1-4803-a70c-cf9542c12de8",
   "metadata": {},
   "outputs": [
    {
     "data": {
      "text/plain": [
       "'ngertips'"
      ]
     },
     "execution_count": 11,
     "metadata": {},
     "output_type": "execute_result"
    }
   ],
   "source": [
    "st[2:7]\n",
    "st[:7]\n",
    "st[2:]"
   ]
  },
  {
   "cell_type": "code",
   "execution_count": 12,
   "id": "aadf0e8e-1b8d-4aa1-abcf-231034f2bfd3",
   "metadata": {},
   "outputs": [
    {
     "data": {
      "text/plain": [
       "'ngert'"
      ]
     },
     "execution_count": 12,
     "metadata": {},
     "output_type": "execute_result"
    }
   ],
   "source": [
    "st[2:7]  "
   ]
  },
  {
   "cell_type": "code",
   "execution_count": 19,
   "id": "c9700886-5c2f-44ea-ae09-c049022282b5",
   "metadata": {},
   "outputs": [
    {
     "data": {
      "text/plain": [
       "'fnet'"
      ]
     },
     "execution_count": 19,
     "metadata": {},
     "output_type": "execute_result"
    }
   ],
   "source": [
    "st[0:7:2]  #[start:end:skips(n)num]"
   ]
  },
  {
   "cell_type": "code",
   "execution_count": 17,
   "id": "f069ba70-9ab8-4a59-849c-aa7998fa50bf",
   "metadata": {},
   "outputs": [
    {
     "data": {
      "text/plain": [
       "'l'"
      ]
     },
     "execution_count": 17,
     "metadata": {},
     "output_type": "execute_result"
    }
   ],
   "source": [
    "sr1 = \"hello\"\n",
    "sr1[-2]\n"
   ]
  },
  {
   "cell_type": "code",
   "execution_count": 22,
   "id": "60dd8dc7-3c9b-45b6-ad15-e0d947d66993",
   "metadata": {},
   "outputs": [
    {
     "data": {
      "text/plain": [
       "'olleh'"
      ]
     },
     "execution_count": 22,
     "metadata": {},
     "output_type": "execute_result"
    }
   ],
   "source": [
    "sr1[::-1] #to reverse string"
   ]
  },
  {
   "cell_type": "code",
   "execution_count": 23,
   "id": "28c778b6-59f4-4fca-a28a-fa666003ba62",
   "metadata": {},
   "outputs": [
    {
     "data": {
      "text/plain": [
       "'spit'"
      ]
     },
     "execution_count": 23,
     "metadata": {},
     "output_type": "execute_result"
    }
   ],
   "source": [
    "st[:-5:-1]"
   ]
  },
  {
   "cell_type": "markdown",
   "id": "0f518e26-0e8b-42e8-ab50-edda3c13cacb",
   "metadata": {},
   "source": [
    "# list"
   ]
  },
  {
   "cell_type": "code",
   "execution_count": null,
   "id": "42f44630-3b32-44e8-b018-517de97572c6",
   "metadata": {},
   "outputs": [],
   "source": [
    "l=[\"shoes\",\"cloths\",10.5,4,True]"
   ]
  },
  {
   "cell_type": "code",
   "execution_count": 25,
   "id": "62de5488-0b90-4820-b721-4aee6f3a6a57",
   "metadata": {},
   "outputs": [
    {
     "data": {
      "text/plain": [
       "list"
      ]
     },
     "execution_count": 25,
     "metadata": {},
     "output_type": "execute_result"
    }
   ],
   "source": [
    "type(l)"
   ]
  },
  {
   "cell_type": "code",
   "execution_count": 26,
   "id": "c25eb9fa-9733-46a0-87ef-6104b6c182b0",
   "metadata": {},
   "outputs": [
    {
     "data": {
      "text/plain": [
       "str"
      ]
     },
     "execution_count": 26,
     "metadata": {},
     "output_type": "execute_result"
    }
   ],
   "source": [
    "type(l[1])"
   ]
  },
  {
   "cell_type": "code",
   "execution_count": 27,
   "id": "1bac3a26-88bd-4e22-a0e5-52b37a374140",
   "metadata": {},
   "outputs": [
    {
     "data": {
      "text/plain": [
       "'ho'"
      ]
     },
     "execution_count": 27,
     "metadata": {},
     "output_type": "execute_result"
    }
   ],
   "source": [
    "l[0][1:3]"
   ]
  },
  {
   "cell_type": "code",
   "execution_count": 30,
   "id": "82dba888-6760-47da-afce-4adbfb651129",
   "metadata": {},
   "outputs": [],
   "source": [
    "l.append(\"grocery\")"
   ]
  },
  {
   "cell_type": "code",
   "execution_count": 32,
   "id": "1458b288-2d24-4cac-960b-4f8ded416437",
   "metadata": {},
   "outputs": [
    {
     "data": {
      "text/plain": [
       "['shoes', 'cloths', 10.5, 4, True, 'grocery']"
      ]
     },
     "execution_count": 32,
     "metadata": {},
     "output_type": "execute_result"
    }
   ],
   "source": [
    "l"
   ]
  },
  {
   "cell_type": "code",
   "execution_count": 33,
   "id": "3b588c81-1445-4364-83ac-8d3652856000",
   "metadata": {},
   "outputs": [],
   "source": [
    "l.insert(1,\"jean\")"
   ]
  },
  {
   "cell_type": "code",
   "execution_count": 41,
   "id": "6298c957-b726-4eb3-94e3-4ca28c33e495",
   "metadata": {},
   "outputs": [
    {
     "data": {
      "text/plain": [
       "['shoes', 'cloths', 10.5, 4, True]"
      ]
     },
     "execution_count": 41,
     "metadata": {},
     "output_type": "execute_result"
    }
   ],
   "source": [
    "l"
   ]
  },
  {
   "cell_type": "code",
   "execution_count": 38,
   "id": "c5e9666d-e34c-404e-b622-524c978e8ab8",
   "metadata": {},
   "outputs": [
    {
     "ename": "ValueError",
     "evalue": "list.remove(x): x not in list",
     "output_type": "error",
     "traceback": [
      "\u001b[1;31m---------------------------------------------------------------------------\u001b[0m",
      "\u001b[1;31mValueError\u001b[0m                                Traceback (most recent call last)",
      "Cell \u001b[1;32mIn[38], line 1\u001b[0m\n\u001b[1;32m----> 1\u001b[0m l\u001b[38;5;241m.\u001b[39mremove(\u001b[38;5;124m\"\u001b[39m\u001b[38;5;124m4\u001b[39m\u001b[38;5;124m\"\u001b[39m)\n",
      "\u001b[1;31mValueError\u001b[0m: list.remove(x): x not in list"
     ]
    }
   ],
   "source": [
    "l.remove()"
   ]
  },
  {
   "cell_type": "code",
   "execution_count": 42,
   "id": "144c8d80-0cc6-4590-ba9b-c1279f637785",
   "metadata": {},
   "outputs": [
    {
     "data": {
      "text/plain": [
       "True"
      ]
     },
     "execution_count": 42,
     "metadata": {},
     "output_type": "execute_result"
    }
   ],
   "source": [
    "l.pop()  # pop removes index wise element"
   ]
  },
  {
   "cell_type": "code",
   "execution_count": 45,
   "id": "a8555580-9057-4264-8248-ec70a93a3829",
   "metadata": {},
   "outputs": [],
   "source": [
    "l.insert(1,\"neil\")"
   ]
  },
  {
   "cell_type": "code",
   "execution_count": 46,
   "id": "15cef64d-9cbc-4003-a25e-9cefcb04bc63",
   "metadata": {},
   "outputs": [],
   "source": [
    "l.reverse()"
   ]
  },
  {
   "cell_type": "code",
   "execution_count": 47,
   "id": "2bc6c81f-2306-4a35-8a27-22b8b12b8d12",
   "metadata": {},
   "outputs": [
    {
     "data": {
      "text/plain": [
       "[4, 10.5, 'cloths', 'neil', 'shoes']"
      ]
     },
     "execution_count": 47,
     "metadata": {},
     "output_type": "execute_result"
    }
   ],
   "source": [
    "l"
   ]
  },
  {
   "cell_type": "code",
   "execution_count": 49,
   "id": "29e5bcbe-39d6-472b-ba1a-ec6691e21057",
   "metadata": {},
   "outputs": [
    {
     "data": {
      "text/plain": [
       "['cloths', 'neil', 'shoes']"
      ]
     },
     "execution_count": 49,
     "metadata": {},
     "output_type": "execute_result"
    }
   ],
   "source": [
    "l.pop(0)\n",
    "l"
   ]
  },
  {
   "cell_type": "code",
   "execution_count": 50,
   "id": "0887f3f9-3d3d-4fb9-9849-129caabed589",
   "metadata": {},
   "outputs": [
    {
     "data": {
      "text/plain": [
       "['shoes', 'neil', 'cloths']"
      ]
     },
     "execution_count": 50,
     "metadata": {},
     "output_type": "execute_result"
    }
   ],
   "source": [
    "l.reverse()\n",
    "l"
   ]
  },
  {
   "cell_type": "code",
   "execution_count": 52,
   "id": "4f0dee2c-cab3-4b98-bbfe-9446f80f6c34",
   "metadata": {},
   "outputs": [
    {
     "data": {
      "text/plain": [
       "4"
      ]
     },
     "execution_count": 52,
     "metadata": {},
     "output_type": "execute_result"
    }
   ],
   "source": [
    "b=len(l.pop(0))\n",
    "b"
   ]
  },
  {
   "cell_type": "code",
   "execution_count": 56,
   "id": "de7c1267-e66a-4bde-a98e-44fe5895723d",
   "metadata": {},
   "outputs": [
    {
     "ename": "IndexError",
     "evalue": "pop from empty list",
     "output_type": "error",
     "traceback": [
      "\u001b[1;31m---------------------------------------------------------------------------\u001b[0m",
      "\u001b[1;31mIndexError\u001b[0m                                Traceback (most recent call last)",
      "Cell \u001b[1;32mIn[56], line 1\u001b[0m\n\u001b[1;32m----> 1\u001b[0m b \u001b[38;5;241m=\u001b[39m l\u001b[38;5;241m.\u001b[39mpop(\u001b[38;5;241m0\u001b[39m)\n\u001b[0;32m      2\u001b[0m b\n",
      "\u001b[1;31mIndexError\u001b[0m: pop from empty list"
     ]
    }
   ],
   "source": [
    "b = l.pop(0)\n",
    "b"
   ]
  },
  {
   "cell_type": "code",
   "execution_count": 57,
   "id": "801ee835-a780-4313-8964-ecf1b24dcbed",
   "metadata": {},
   "outputs": [],
   "source": [
    "l=[\"shoes\",\"cloths\",10.5,4,True]"
   ]
  },
  {
   "cell_type": "code",
   "execution_count": 58,
   "id": "5571e97a-1813-4fb3-9aa9-af6b40fa4653",
   "metadata": {},
   "outputs": [
    {
     "data": {
      "text/plain": [
       "'shoes'"
      ]
     },
     "execution_count": 58,
     "metadata": {},
     "output_type": "execute_result"
    }
   ],
   "source": [
    "b = l.pop(0)\n",
    "b"
   ]
  },
  {
   "cell_type": "code",
   "execution_count": 61,
   "id": "9bb71969-d579-4f1f-8584-50014b991a08",
   "metadata": {},
   "outputs": [],
   "source": [
    "l.extend([[10,20,21]])"
   ]
  },
  {
   "cell_type": "code",
   "execution_count": 62,
   "id": "e6e7808a-68cc-4b14-b2a4-7ad4caeb87d5",
   "metadata": {},
   "outputs": [
    {
     "data": {
      "text/plain": [
       "['cloths', 10.5, 4, True, 10, 20, 21, [10, 20, 21]]"
      ]
     },
     "execution_count": 62,
     "metadata": {},
     "output_type": "execute_result"
    }
   ],
   "source": [
    "l"
   ]
  },
  {
   "cell_type": "code",
   "execution_count": 68,
   "id": "acd4f86f-850a-41f3-89a8-f30f402684a4",
   "metadata": {},
   "outputs": [
    {
     "data": {
      "text/plain": [
       "['cloths', 10.5, [22, 23], 4, True, 10, 20, 21, [10, 20, 21]]"
      ]
     },
     "execution_count": 68,
     "metadata": {},
     "output_type": "execute_result"
    }
   ],
   "source": [
    "l.insert(2,[22,23])\n",
    "l"
   ]
  },
  {
   "cell_type": "code",
   "execution_count": 66,
   "id": "289ee534-f325-4f3e-ad21-1007151db2fe",
   "metadata": {},
   "outputs": [
    {
     "ename": "NameError",
     "evalue": "name 'l1' is not defined",
     "output_type": "error",
     "traceback": [
      "\u001b[1;31m---------------------------------------------------------------------------\u001b[0m",
      "\u001b[1;31mNameError\u001b[0m                                 Traceback (most recent call last)",
      "Cell \u001b[1;32mIn[66], line 1\u001b[0m\n\u001b[1;32m----> 1\u001b[0m l\u001b[38;5;241m.\u001b[39mcopy() \u001b[38;5;241m==\u001b[39m l1\n\u001b[0;32m      2\u001b[0m l1\n",
      "\u001b[1;31mNameError\u001b[0m: name 'l1' is not defined"
     ]
    }
   ],
   "source": []
  },
  {
   "cell_type": "code",
   "execution_count": 69,
   "id": "af1aecf9-d038-49b2-bebb-c1c95c0c70a0",
   "metadata": {},
   "outputs": [
    {
     "data": {
      "text/plain": [
       "['cloths', 10.5, [22, 23], 4, True, 10, 20, 21, [10, 20, 21]]"
      ]
     },
     "execution_count": 69,
     "metadata": {},
     "output_type": "execute_result"
    }
   ],
   "source": [
    "l5=l.copy()\n",
    "l5"
   ]
  },
  {
   "cell_type": "code",
   "execution_count": 70,
   "id": "c9b5dfa5-9ceb-4536-9100-3979195c29fd",
   "metadata": {},
   "outputs": [],
   "source": [
    "l6 = l  "
   ]
  },
  {
   "cell_type": "code",
   "execution_count": 71,
   "id": "a905db44-3560-4d2d-9b4d-a0d474e83c1c",
   "metadata": {},
   "outputs": [
    {
     "data": {
      "text/plain": [
       "['cloths', 10.5, [22, 23], 4, True, 10, 20, 21, [10, 20, 21]]"
      ]
     },
     "execution_count": 71,
     "metadata": {},
     "output_type": "execute_result"
    }
   ],
   "source": [
    "l6"
   ]
  },
  {
   "cell_type": "code",
   "execution_count": 72,
   "id": "8e253607-64c0-4f4d-9893-6c3f6650d818",
   "metadata": {},
   "outputs": [
    {
     "name": "stdout",
     "output_type": "stream",
     "text": [
      "['cloths', 10.5, [22, 23], 4, True, 10, 20, 21, [10, 20, 21]]\n",
      "['cloths', 10.5, [22, 23], 4, True, 10, 20, 21, [10, 20, 21]]\n",
      "['cloths', 10.5, [22, 23], 4, True, 10, 20, 21, [10, 20, 21]]\n"
     ]
    }
   ],
   "source": [
    "print(l)\n",
    "print(l5)\n",
    "print(l6)"
   ]
  },
  {
   "cell_type": "code",
   "execution_count": 73,
   "id": "8bde41a0-ca24-42f3-bee0-8dd8471bc67c",
   "metadata": {},
   "outputs": [
    {
     "data": {
      "text/plain": [
       "['cloths', 10.5, 4, True, 10, 20, 21, [10, 20, 21]]"
      ]
     },
     "execution_count": 73,
     "metadata": {},
     "output_type": "execute_result"
    }
   ],
   "source": [
    "l6.remove([22,23])\n",
    "l6"
   ]
  },
  {
   "cell_type": "code",
   "execution_count": 74,
   "id": "936acdba-d21c-4967-951f-c9ab54b328dd",
   "metadata": {},
   "outputs": [
    {
     "name": "stdout",
     "output_type": "stream",
     "text": [
      "['cloths', 10.5, 4, True, 10, 20, 21, [10, 20, 21]]\n",
      "['cloths', 10.5, [22, 23], 4, True, 10, 20, 21, [10, 20, 21]]\n",
      "['cloths', 10.5, 4, True, 10, 20, 21, [10, 20, 21]]\n"
     ]
    }
   ],
   "source": [
    "print(l)\n",
    "print(l5)\n",
    "print(l6)"
   ]
  },
  {
   "cell_type": "code",
   "execution_count": 76,
   "id": "c6f4b5e3-f9c9-4b0c-bcbc-731022deca2b",
   "metadata": {},
   "outputs": [],
   "source": [
    "l6.insert(2,[22,23])"
   ]
  },
  {
   "cell_type": "code",
   "execution_count": 77,
   "id": "4b7dffcc-7474-470b-8718-6a86e3a1e2b0",
   "metadata": {},
   "outputs": [
    {
     "name": "stdout",
     "output_type": "stream",
     "text": [
      "['cloths', 10.5, [22, 23], 4, True, 10, 20, 21, [10, 20, 21]]\n",
      "['cloths', 10.5, [22, 23], 4, True, 10, 20, 21, [10, 20, 21]]\n",
      "['cloths', 10.5, [22, 23], 4, True, 10, 20, 21, [10, 20, 21]]\n"
     ]
    }
   ],
   "source": [
    "print(l)\n",
    "print(l5)\n",
    "print(l6)"
   ]
  },
  {
   "cell_type": "code",
   "execution_count": 78,
   "id": "effa425f-ef6e-467e-ba2a-d799772408d8",
   "metadata": {},
   "outputs": [
    {
     "data": {
      "text/plain": [
       "['cloths', 10.5, 4, True, 10, 20, 21, [10, 20, 21]]"
      ]
     },
     "execution_count": 78,
     "metadata": {},
     "output_type": "execute_result"
    }
   ],
   "source": [
    "l5.remove([22,23])\n",
    "l5"
   ]
  },
  {
   "cell_type": "code",
   "execution_count": 79,
   "id": "b10edca0-29bf-4251-b33f-663fc9b38a20",
   "metadata": {},
   "outputs": [
    {
     "name": "stdout",
     "output_type": "stream",
     "text": [
      "['cloths', 10.5, [22, 23], 4, True, 10, 20, 21, [10, 20, 21]]\n",
      "['cloths', 10.5, 4, True, 10, 20, 21, [10, 20, 21]]\n",
      "['cloths', 10.5, [22, 23], 4, True, 10, 20, 21, [10, 20, 21]]\n"
     ]
    }
   ],
   "source": [
    "print(l)\n",
    "print(l5)\n",
    "print(l6)"
   ]
  },
  {
   "cell_type": "code",
   "execution_count": 80,
   "id": "9f9d36aa-84e4-4e81-a69d-de090a6bb0f6",
   "metadata": {},
   "outputs": [
    {
     "data": {
      "text/plain": [
       "['shoes', 'cloths', 10.5, 4, True, 10, 20, 21, [10, 20, 21]]"
      ]
     },
     "execution_count": 80,
     "metadata": {},
     "output_type": "execute_result"
    }
   ],
   "source": [
    "l5.insert(0,b)\n",
    "l5"
   ]
  },
  {
   "cell_type": "markdown",
   "id": "03f107ff-91c8-4ab7-b156-653b48260e9b",
   "metadata": {},
   "source": [
    "# touples"
   ]
  },
  {
   "cell_type": "code",
   "execution_count": 81,
   "id": "f552e847-1a19-463e-a820-27022dbb2961",
   "metadata": {},
   "outputs": [
    {
     "data": {
      "text/plain": [
       "tuple"
      ]
     },
     "execution_count": 81,
     "metadata": {},
     "output_type": "execute_result"
    }
   ],
   "source": [
    "t=(10,20,22,58,60)\n",
    "type(t)"
   ]
  },
  {
   "cell_type": "code",
   "execution_count": 82,
   "id": "132bc005-27c4-4039-b679-e8c0992fbfd7",
   "metadata": {},
   "outputs": [
    {
     "ename": "TypeError",
     "evalue": "'tuple' object does not support item assignment",
     "output_type": "error",
     "traceback": [
      "\u001b[1;31m---------------------------------------------------------------------------\u001b[0m",
      "\u001b[1;31mTypeError\u001b[0m                                 Traceback (most recent call last)",
      "Cell \u001b[1;32mIn[82], line 1\u001b[0m\n\u001b[1;32m----> 1\u001b[0m t[\u001b[38;5;241m0\u001b[39m]\u001b[38;5;241m=\u001b[39m\u001b[38;5;241m55\u001b[39m\n",
      "\u001b[1;31mTypeError\u001b[0m: 'tuple' object does not support item assignment"
     ]
    }
   ],
   "source": [
    "t[0]=55"
   ]
  },
  {
   "cell_type": "code",
   "execution_count": 83,
   "id": "7d48158e-4fa7-4fd3-88ce-f79337ff7871",
   "metadata": {},
   "outputs": [
    {
     "data": {
      "text/plain": [
       "1"
      ]
     },
     "execution_count": 83,
     "metadata": {},
     "output_type": "execute_result"
    }
   ],
   "source": [
    "t.count(20)"
   ]
  },
  {
   "cell_type": "code",
   "execution_count": 84,
   "id": "d0ff69a3-be3b-489a-b414-9f37d160e336",
   "metadata": {},
   "outputs": [
    {
     "data": {
      "text/plain": [
       "1"
      ]
     },
     "execution_count": 84,
     "metadata": {},
     "output_type": "execute_result"
    }
   ],
   "source": [
    "t.count(22)"
   ]
  },
  {
   "cell_type": "code",
   "execution_count": 105,
   "id": "c44e571d-b0a5-4dd2-a6c2-82b2d8da4d12",
   "metadata": {},
   "outputs": [
    {
     "data": {
      "text/plain": [
       "[*list[10, 20, 22, 58, 60]]"
      ]
     },
     "execution_count": 105,
     "metadata": {},
     "output_type": "execute_result"
    }
   ],
   "source": [
    "t=list(t)\n",
    "t"
   ]
  },
  {
   "cell_type": "code",
   "execution_count": 96,
   "id": "65c4bad4-f46e-4eb5-bb73-b17c15fa292a",
   "metadata": {},
   "outputs": [],
   "source": [
    "my_tuple = (1, 2, 3)\n",
    "my_list = list(my_tuple)"
   ]
  },
  {
   "cell_type": "code",
   "execution_count": 97,
   "id": "56aee8b6-4e1e-43a8-8199-70d5aca871fd",
   "metadata": {},
   "outputs": [
    {
     "data": {
      "text/plain": [
       "[1, 2, 3]"
      ]
     },
     "execution_count": 97,
     "metadata": {},
     "output_type": "execute_result"
    }
   ],
   "source": [
    "my_list"
   ]
  },
  {
   "cell_type": "code",
   "execution_count": 1,
   "id": "66733ade-8019-4b02-a21e-4a08084e36d7",
   "metadata": {},
   "outputs": [
    {
     "data": {
      "text/plain": [
       "[20, 30, 20, 10, 10, 40, 20]"
      ]
     },
     "execution_count": 1,
     "metadata": {},
     "output_type": "execute_result"
    }
   ],
   "source": [
    "lis=[20,30,20,10,10,40,20]\n",
    "lis"
   ]
  },
  {
   "cell_type": "code",
   "execution_count": 2,
   "id": "6fff9f48-73cc-4ab2-bc1f-ea952b610396",
   "metadata": {},
   "outputs": [
    {
     "data": {
      "text/plain": [
       "{10, 20, 30, 40}"
      ]
     },
     "execution_count": 2,
     "metadata": {},
     "output_type": "execute_result"
    }
   ],
   "source": [
    "set(lis)"
   ]
  },
  {
   "cell_type": "code",
   "execution_count": 3,
   "id": "7c80a6f6-bf04-4657-a5f2-93dc12313668",
   "metadata": {},
   "outputs": [],
   "source": [
    "s1={10,20,30,42,58}\n",
    "s2 ={10,22,30,50,58}"
   ]
  },
  {
   "cell_type": "code",
   "execution_count": 4,
   "id": "1c9c8b76-4e64-4e45-aeaf-db4694b8ed5d",
   "metadata": {},
   "outputs": [
    {
     "data": {
      "text/plain": [
       "{10, 20, 22, 30, 42, 50, 58}"
      ]
     },
     "execution_count": 4,
     "metadata": {},
     "output_type": "execute_result"
    }
   ],
   "source": [
    "s1.union(s2)"
   ]
  },
  {
   "cell_type": "code",
   "execution_count": 5,
   "id": "a673efe4-17cb-4c4e-9618-8d6a6b57081b",
   "metadata": {},
   "outputs": [
    {
     "data": {
      "text/plain": [
       "{22, 50}"
      ]
     },
     "execution_count": 5,
     "metadata": {},
     "output_type": "execute_result"
    }
   ],
   "source": [
    "s2.difference(s1)"
   ]
  },
  {
   "cell_type": "code",
   "execution_count": 6,
   "id": "0a88f0a7-ae05-4dd1-8f46-029784145560",
   "metadata": {},
   "outputs": [
    {
     "data": {
      "text/plain": [
       "{20, 42}"
      ]
     },
     "execution_count": 6,
     "metadata": {},
     "output_type": "execute_result"
    }
   ],
   "source": [
    "s1.difference(s2)"
   ]
  },
  {
   "cell_type": "code",
   "execution_count": 9,
   "id": "c0d89c2c-0aa5-4d01-9d0d-e3fb0fbc1a49",
   "metadata": {},
   "outputs": [
    {
     "data": {
      "text/plain": [
       "{20, 22, 42, 50}"
      ]
     },
     "execution_count": 9,
     "metadata": {},
     "output_type": "execute_result"
    }
   ],
   "source": [
    "s2.symmetric_difference(s1)  # uncommon values in both sets will be joined"
   ]
  },
  {
   "cell_type": "code",
   "execution_count": 10,
   "id": "6424c08f-1411-4d95-ba26-2111c4e45940",
   "metadata": {},
   "outputs": [
    {
     "data": {
      "text/plain": [
       "{10, 20, 30, 42, 58}"
      ]
     },
     "execution_count": 10,
     "metadata": {},
     "output_type": "execute_result"
    }
   ],
   "source": [
    "s1"
   ]
  },
  {
   "cell_type": "code",
   "execution_count": 12,
   "id": "b238a2e1-14c7-49ea-ada4-e7ed3648d95c",
   "metadata": {},
   "outputs": [
    {
     "data": {
      "text/plain": [
       "{10, 20, 30, 42, 58, 99}"
      ]
     },
     "execution_count": 12,
     "metadata": {},
     "output_type": "execute_result"
    }
   ],
   "source": [
    "s1.add(99)    #single  value add in set\n",
    "s1"
   ]
  },
  {
   "cell_type": "code",
   "execution_count": 13,
   "id": "6b718afc-9733-4ce5-bcc3-ec51c974fc64",
   "metadata": {},
   "outputs": [
    {
     "data": {
      "text/plain": [
       "{10, 22, 30, 45, 50, 58, 62, 68}"
      ]
     },
     "execution_count": 13,
     "metadata": {},
     "output_type": "execute_result"
    }
   ],
   "source": [
    "s2.update([68,62,45])\n",
    "s2"
   ]
  },
  {
   "cell_type": "code",
   "execution_count": 24,
   "id": "f2445830-f5e9-4851-a842-eb9838a4ff46",
   "metadata": {},
   "outputs": [
    {
     "data": {
      "text/plain": [
       "{10, 20, 30, 58}"
      ]
     },
     "execution_count": 24,
     "metadata": {},
     "output_type": "execute_result"
    }
   ],
   "source": [
    "s1.discard(99)\n",
    "s1"
   ]
  },
  {
   "cell_type": "code",
   "execution_count": 20,
   "id": "7ac1fc5d-27c5-4f82-bb38-6f3bbd4ad67a",
   "metadata": {},
   "outputs": [
    {
     "ename": "KeyError",
     "evalue": "68",
     "output_type": "error",
     "traceback": [
      "\u001b[1;31m---------------------------------------------------------------------------\u001b[0m",
      "\u001b[1;31mKeyError\u001b[0m                                  Traceback (most recent call last)",
      "Cell \u001b[1;32mIn[20], line 1\u001b[0m\n\u001b[1;32m----> 1\u001b[0m s2\u001b[38;5;241m.\u001b[39mremove(\u001b[38;5;241m68\u001b[39m)\n\u001b[0;32m      2\u001b[0m s2\n",
      "\u001b[1;31mKeyError\u001b[0m: 68"
     ]
    }
   ],
   "source": [
    "s2.remove(68)\n",
    "s2"
   ]
  },
  {
   "cell_type": "code",
   "execution_count": 21,
   "id": "fc503a1d-e36e-45b7-8d67-a2f51c5451fb",
   "metadata": {},
   "outputs": [
    {
     "data": {
      "text/plain": [
       "{10, 22, 30, 45, 50, 58, 62}"
      ]
     },
     "execution_count": 21,
     "metadata": {},
     "output_type": "execute_result"
    }
   ],
   "source": [
    "s2"
   ]
  },
  {
   "cell_type": "code",
   "execution_count": 23,
   "id": "0d4d936d-349a-463e-9939-d1be69c2158d",
   "metadata": {},
   "outputs": [
    {
     "data": {
      "text/plain": [
       "42"
      ]
     },
     "execution_count": 23,
     "metadata": {},
     "output_type": "execute_result"
    }
   ],
   "source": [
    "s1.pop()  "
   ]
  },
  {
   "cell_type": "code",
   "execution_count": 25,
   "id": "8ba14085-f71f-4e38-be94-e189220fd58b",
   "metadata": {},
   "outputs": [
    {
     "data": {
      "text/plain": [
       "{10, 30, 58}"
      ]
     },
     "execution_count": 25,
     "metadata": {},
     "output_type": "execute_result"
    }
   ],
   "source": [
    "s1.intersection(s2)"
   ]
  },
  {
   "cell_type": "code",
   "execution_count": 30,
   "id": "8856cbcc-3bc2-45cc-bc57-117c6fd003a9",
   "metadata": {},
   "outputs": [
    {
     "data": {
      "text/plain": [
       "{10, 30, 58}"
      ]
     },
     "execution_count": 30,
     "metadata": {},
     "output_type": "execute_result"
    }
   ],
   "source": [
    "s1.intersection_update(s2)\n",
    "s1"
   ]
  },
  {
   "cell_type": "code",
   "execution_count": 31,
   "id": "596a86f9-c92f-49cd-8352-270fce48b1bb",
   "metadata": {},
   "outputs": [
    {
     "data": {
      "text/plain": [
       "True"
      ]
     },
     "execution_count": 31,
     "metadata": {},
     "output_type": "execute_result"
    }
   ],
   "source": [
    "s1.issubset(s2)"
   ]
  },
  {
   "cell_type": "code",
   "execution_count": 32,
   "id": "91c9e65a-d61e-40bb-99ca-0e6129aa6c0e",
   "metadata": {},
   "outputs": [
    {
     "data": {
      "text/plain": [
       "False"
      ]
     },
     "execution_count": 32,
     "metadata": {},
     "output_type": "execute_result"
    }
   ],
   "source": [
    "s1.issuperset(s2)"
   ]
  },
  {
   "cell_type": "code",
   "execution_count": 34,
   "id": "831e4c1a-5b5f-40fe-9763-d16439aaf751",
   "metadata": {},
   "outputs": [
    {
     "data": {
      "text/plain": [
       "False"
      ]
     },
     "execution_count": 34,
     "metadata": {},
     "output_type": "execute_result"
    }
   ],
   "source": [
    "s2.isdisjoint(s1)"
   ]
  },
  {
   "cell_type": "markdown",
   "id": "5f9f6f8b-f7db-495e-b4d9-2ba0fc8f1500",
   "metadata": {},
   "source": [
    "# Dictonary"
   ]
  },
  {
   "cell_type": "code",
   "execution_count": 35,
   "id": "28b7109b-0125-42f8-92be-f37722249c75",
   "metadata": {},
   "outputs": [
    {
     "data": {
      "text/plain": [
       "{'A': 10, 'B': 20, 'C': 20}"
      ]
     },
     "execution_count": 35,
     "metadata": {},
     "output_type": "execute_result"
    }
   ],
   "source": [
    "s = {\"A\":10,\"B\":20,\"C\":20}\n",
    "s"
   ]
  },
  {
   "cell_type": "code",
   "execution_count": 36,
   "id": "a9b05c03-53d6-4811-8b5a-4db5b319b712",
   "metadata": {},
   "outputs": [
    {
     "data": {
      "text/plain": [
       "dict"
      ]
     },
     "execution_count": 36,
     "metadata": {},
     "output_type": "execute_result"
    }
   ],
   "source": [
    "type(s)"
   ]
  },
  {
   "cell_type": "code",
   "execution_count": 37,
   "id": "8acb323f-7be5-4baa-895e-0e7289bddd46",
   "metadata": {},
   "outputs": [
    {
     "data": {
      "text/plain": [
       "10"
      ]
     },
     "execution_count": 37,
     "metadata": {},
     "output_type": "execute_result"
    }
   ],
   "source": [
    "s[\"A\"]  #dict keys"
   ]
  },
  {
   "cell_type": "code",
   "execution_count": 38,
   "id": "93f0e4d9-bde3-4ae0-a979-d87420860336",
   "metadata": {},
   "outputs": [
    {
     "data": {
      "text/plain": [
       "dict_keys(['A', 'B', 'C'])"
      ]
     },
     "execution_count": 38,
     "metadata": {},
     "output_type": "execute_result"
    }
   ],
   "source": [
    "s.keys()"
   ]
  },
  {
   "cell_type": "code",
   "execution_count": 39,
   "id": "257a0621-782a-4db8-8934-2c406adb6ef9",
   "metadata": {},
   "outputs": [
    {
     "data": {
      "text/plain": [
       "dict_values([10, 20, 20])"
      ]
     },
     "execution_count": 39,
     "metadata": {},
     "output_type": "execute_result"
    }
   ],
   "source": [
    "s.values()"
   ]
  },
  {
   "cell_type": "code",
   "execution_count": 40,
   "id": "b435b43d-3341-4948-8a71-7025e775b33a",
   "metadata": {},
   "outputs": [
    {
     "data": {
      "text/plain": [
       "dict_items([('A', 10), ('B', 20), ('C', 20)])"
      ]
     },
     "execution_count": 40,
     "metadata": {},
     "output_type": "execute_result"
    }
   ],
   "source": [
    "s.items()"
   ]
  },
  {
   "cell_type": "code",
   "execution_count": 49,
   "id": "f8a56435-158c-42b1-b44e-4790ed18be9c",
   "metadata": {},
   "outputs": [],
   "source": [
    "s.get(\"V\")"
   ]
  },
  {
   "cell_type": "code",
   "execution_count": 43,
   "id": "819be947-bd0e-4696-b4d4-023382e19519",
   "metadata": {},
   "outputs": [
    {
     "data": {
      "text/plain": [
       "20"
      ]
     },
     "execution_count": 43,
     "metadata": {},
     "output_type": "execute_result"
    }
   ],
   "source": [
    "s.pop(\"C\")"
   ]
  },
  {
   "cell_type": "code",
   "execution_count": 44,
   "id": "3b276f7a-e757-4a1f-9e53-4b164fe4328d",
   "metadata": {},
   "outputs": [
    {
     "data": {
      "text/plain": [
       "{'A': 10, 'B': 20}"
      ]
     },
     "execution_count": 44,
     "metadata": {},
     "output_type": "execute_result"
    }
   ],
   "source": [
    "s"
   ]
  },
  {
   "cell_type": "code",
   "execution_count": 45,
   "id": "23a016f1-686e-429b-a43e-4d869d3c1de0",
   "metadata": {},
   "outputs": [
    {
     "data": {
      "text/plain": [
       "('B', 20)"
      ]
     },
     "execution_count": 45,
     "metadata": {},
     "output_type": "execute_result"
    }
   ],
   "source": [
    "s.popitem()"
   ]
  },
  {
   "cell_type": "code",
   "execution_count": 46,
   "id": "a91545a1-13a6-4da3-bfbb-89824811b3e9",
   "metadata": {},
   "outputs": [
    {
     "data": {
      "text/plain": [
       "30"
      ]
     },
     "execution_count": 46,
     "metadata": {},
     "output_type": "execute_result"
    }
   ],
   "source": [
    "s.setdefault(\"B\",30)    # we cant re-assign \"B\""
   ]
  },
  {
   "cell_type": "code",
   "execution_count": 54,
   "id": "471f1bc4-0c89-4e9a-8eb7-d42f8bb1f799",
   "metadata": {},
   "outputs": [
    {
     "ename": "AttributeError",
     "evalue": "'int' object has no attribute 'remove'",
     "output_type": "error",
     "traceback": [
      "\u001b[1;31m---------------------------------------------------------------------------\u001b[0m",
      "\u001b[1;31mAttributeError\u001b[0m                            Traceback (most recent call last)",
      "Cell \u001b[1;32mIn[54], line 1\u001b[0m\n\u001b[1;32m----> 1\u001b[0m s[\u001b[38;5;124m\"\u001b[39m\u001b[38;5;124mA\u001b[39m\u001b[38;5;124m\"\u001b[39m]\u001b[38;5;241m.\u001b[39mremove(\u001b[38;5;241m10\u001b[39m)\n",
      "\u001b[1;31mAttributeError\u001b[0m: 'int' object has no attribute 'remove'"
     ]
    }
   ],
   "source": [
    "s[\"A\"].remove(10)"
   ]
  },
  {
   "cell_type": "code",
   "execution_count": 55,
   "id": "89d5afac-7aec-488a-86fb-c1336cddc1ae",
   "metadata": {},
   "outputs": [
    {
     "data": {
      "text/plain": [
       "{'B': 50, 'D': [20, 58, 65]}"
      ]
     },
     "execution_count": 55,
     "metadata": {},
     "output_type": "execute_result"
    }
   ],
   "source": [
    "s2={\"B\":50,\"D\":[20,58,65]}\n",
    "s2"
   ]
  },
  {
   "cell_type": "code",
   "execution_count": 57,
   "id": "8f6c9423-9d45-4a52-aa55-af2f04399d7c",
   "metadata": {},
   "outputs": [],
   "source": [
    "s = {\"A\":10,\"B\":20,\"C\":20}"
   ]
  },
  {
   "cell_type": "code",
   "execution_count": 58,
   "id": "d3526fde-0503-470e-a8b1-70f27666e894",
   "metadata": {},
   "outputs": [
    {
     "data": {
      "text/plain": [
       "{'A': 10, 'B': 20, 'C': 20}"
      ]
     },
     "execution_count": 58,
     "metadata": {},
     "output_type": "execute_result"
    }
   ],
   "source": [
    "s"
   ]
  },
  {
   "cell_type": "code",
   "execution_count": 59,
   "id": "5236822c-a4e4-49b1-a96b-6c6a73eac23b",
   "metadata": {},
   "outputs": [
    {
     "data": {
      "text/plain": [
       "{'A': 10, 'B': 50, 'C': 20, 'D': [20, 58, 65]}"
      ]
     },
     "execution_count": 59,
     "metadata": {},
     "output_type": "execute_result"
    }
   ],
   "source": [
    "s.update(s2)\n",
    "s"
   ]
  },
  {
   "cell_type": "code",
   "execution_count": 60,
   "id": "647b1258-c385-40da-8de8-1945b2ae08a7",
   "metadata": {},
   "outputs": [
    {
     "data": {
      "text/plain": [
       "{'A': 10, 'B': 50, 'C': 20, 'D': [20, 65]}"
      ]
     },
     "execution_count": 60,
     "metadata": {},
     "output_type": "execute_result"
    }
   ],
   "source": [
    "s[\"D\"].remove(58)\n",
    "s"
   ]
  },
  {
   "cell_type": "code",
   "execution_count": 67,
   "id": "4771be25-d2cd-45d7-a775-04525be6dfdd",
   "metadata": {},
   "outputs": [
    {
     "data": {
      "text/plain": [
       "{10: ['A', 'B', 'C'],\n",
       " 20: ['A', 'B', 'C'],\n",
       " 30: ['A', 'B', 'C'],\n",
       " 40: ['A', 'B', 'C']}"
      ]
     },
     "execution_count": 67,
     "metadata": {},
     "output_type": "execute_result"
    }
   ],
   "source": [
    "k = [10,20,30,40]\n",
    "v = [\"A\",\"B\",\"C\"]\n",
    "dic ={}\n",
    "dic.fromkeys(k,v)"
   ]
  },
  {
   "cell_type": "code",
   "execution_count": 68,
   "id": "2f648c9b-a219-4487-aa18-673bf29db619",
   "metadata": {},
   "outputs": [
    {
     "data": {
      "text/plain": [
       "{10: 'A', 20: 'B', 30: 'C'}"
      ]
     },
     "execution_count": 68,
     "metadata": {},
     "output_type": "execute_result"
    }
   ],
   "source": [
    "dict(zip(k,v))"
   ]
  },
  {
   "cell_type": "code",
   "execution_count": 63,
   "id": "b8e657ba-8f4b-4e81-a741-b659ec121637",
   "metadata": {},
   "outputs": [
    {
     "data": {
      "text/plain": [
       "{'A': 10, 'B': 50, 'C': 20, 'D': [20, 65]}"
      ]
     },
     "execution_count": 63,
     "metadata": {},
     "output_type": "execute_result"
    }
   ],
   "source": [
    "s"
   ]
  },
  {
   "cell_type": "code",
   "execution_count": 64,
   "id": "fe841ae8-8b6a-421a-9c74-54318995d8f9",
   "metadata": {},
   "outputs": [
    {
     "data": {
      "text/plain": [
       "{'A': 60, 'B': 50, 'C': 20, 'D': [20, 65]}"
      ]
     },
     "execution_count": 64,
     "metadata": {},
     "output_type": "execute_result"
    }
   ],
   "source": [
    "s[\"A\"]=60\n",
    "s"
   ]
  },
  {
   "cell_type": "markdown",
   "id": "1761cf88-b5b6-439f-852e-7c469e99268e",
   "metadata": {},
   "source": [
    "## Condition 'if'"
   ]
  },
  {
   "cell_type": "code",
   "execution_count": 4,
   "id": "577a416b-445e-457a-9196-87d00fa56d5e",
   "metadata": {},
   "outputs": [
    {
     "name": "stdout",
     "output_type": "stream",
     "text": [
      "Hello\n"
     ]
    }
   ],
   "source": [
    "if \"h\" in \"hello\":\n",
    "    print(\"Hello\")\n",
    "\n",
    "else: \n",
    "    print(\"NO\")   #\"else\" me kabhi condition nahi lagti\n",
    "        "
   ]
  },
  {
   "cell_type": "code",
   "execution_count": 9,
   "id": "412b782d-68e2-422d-9cd3-3d314c07112d",
   "metadata": {},
   "outputs": [
    {
     "name": "stdout",
     "output_type": "stream",
     "text": [
      "Hello\n"
     ]
    }
   ],
   "source": [
    "if \"i\" in \"Nilesh\":\n",
    "    print(\"Hello\")\n",
    "\n",
    "elif \"o\" in \"Nilesh\":     #elif for extra 'n' no of conditions\n",
    "    print(\"NIce to meet you\")\n",
    "\n",
    "elif \"m\" in \"Nilesh\":\n",
    "    print(\"Hey\")\n",
    "else:\n",
    "    print(\"Go Home\")"
   ]
  },
  {
   "cell_type": "markdown",
   "id": "98413d59-de64-4e4d-aa34-e42366fd01eb",
   "metadata": {},
   "source": [
    "## Nested \"if\""
   ]
  },
  {
   "cell_type": "code",
   "execution_count": 1,
   "id": "da928a0f-c75b-4df3-b904-33ca1e5b647b",
   "metadata": {},
   "outputs": [
    {
     "name": "stdout",
     "output_type": "stream",
     "text": [
      "Hello\n",
      "Shatrughna sir\n"
     ]
    }
   ],
   "source": [
    "if \"N\" in \"Nilesh\":\n",
    "    print(\"Hello\")\n",
    "    if \"z\" in \"Nilesh\":\n",
    "        print(\"Welcome\")\n",
    "    else:\n",
    "        print(\"Shatrughna sir\")\n",
    "    \n",
    "\n",
    "elif \"s\" in \"Nilesh\":     \n",
    "    print(\"NIce to meet you\")\n",
    "\n",
    "elif \"m\" in \"Nilesh\":\n",
    "    print(\"Hey\")\n",
    "else:\n",
    "    print(\"Go Home\")"
   ]
  },
  {
   "cell_type": "markdown",
   "id": "84d5e545-ae67-4b85-aac7-3e5977980ace",
   "metadata": {},
   "source": [
    "## test evaluation 4/10/2024"
   ]
  },
  {
   "cell_type": "code",
   "execution_count": 17,
   "id": "09a5eb23-584b-4790-8ae0-7b61d066d60d",
   "metadata": {},
   "outputs": [
    {
     "name": "stdin",
     "output_type": "stream",
     "text": [
      "enter a percentage 59\n"
     ]
    },
    {
     "name": "stdout",
     "output_type": "stream",
     "text": [
      "F\n"
     ]
    }
   ],
   "source": [
    "num = int(input(\"enter a percentage\"))\n",
    "p= num\n",
    "if (p>95):\n",
    "    \n",
    "    print(\"A+\")\n",
    "\n",
    "elif (p>90):     \n",
    "    print(\"A\")\n",
    "\n",
    "elif (p>80):    \n",
    "    print(\"B\")\n",
    "    \n",
    "elif (p>70):    \n",
    "    print(\"C\")\n",
    "\n",
    "elif (p>60):    \n",
    "    print(\"D\")\n",
    "else:\n",
    "    print(\"F\")"
   ]
  },
  {
   "cell_type": "markdown",
   "id": "65d53ba0-3da1-4e14-839c-e85d147f6442",
   "metadata": {},
   "source": [
    "## another sir method"
   ]
  },
  {
   "cell_type": "code",
   "execution_count": 18,
   "id": "c928dc57-342b-4986-8b69-503ea355f678",
   "metadata": {},
   "outputs": [
    {
     "name": "stdout",
     "output_type": "stream",
     "text": [
      "F\n"
     ]
    }
   ],
   "source": [
    "if p>=95:\n",
    "    print(\"A+\")\n",
    "else:\n",
    "    if p>90:\n",
    "        print(\"A\")\n",
    "    else:\n",
    "        if p>80:\n",
    "            print(\"B\")\n",
    "        else:\n",
    "            if p>70:\n",
    "                print(\"C\")\n",
    "            else:\n",
    "                if p>60:\n",
    "                    print(\"D\")\n",
    "                else:\n",
    "                    print(\"F\")"
   ]
  },
  {
   "cell_type": "markdown",
   "id": "fcb7ce2a-2c30-455c-a00f-dc9fac6d7cff",
   "metadata": {},
   "source": [
    "## loops\n",
    " #### while loop"
   ]
  },
  {
   "cell_type": "code",
   "execution_count": null,
   "id": "b72409a8-9576-46b7-b57c-57571ddc6dde",
   "metadata": {},
   "outputs": [],
   "source": [
    "i = 1\n",
    "while i <= 10:\n",
    "    print(i)\n",
    "    i = i+1"
   ]
  },
  {
   "cell_type": "code",
   "execution_count": null,
   "id": "2d521d8b-beaf-405c-bb94-12dfeaa92c9a",
   "metadata": {},
   "outputs": [],
   "source": [
    "i = 1\n",
    "while i <= 100\n",
    "    if i%5==0\n",
    "        print(i)\n",
    "        i+=1"
   ]
  },
  {
   "cell_type": "code",
   "execution_count": null,
   "id": "566dd524-55a2-4aab-850e-a8181576d76c",
   "metadata": {},
   "outputs": [],
   "source": []
  }
 ],
 "metadata": {
  "kernelspec": {
   "display_name": "Python 3 (ipykernel)",
   "language": "python",
   "name": "python3"
  },
  "language_info": {
   "codemirror_mode": {
    "name": "ipython",
    "version": 3
   },
   "file_extension": ".py",
   "mimetype": "text/x-python",
   "name": "python",
   "nbconvert_exporter": "python",
   "pygments_lexer": "ipython3",
   "version": "3.12.4"
  }
 },
 "nbformat": 4,
 "nbformat_minor": 5
}
