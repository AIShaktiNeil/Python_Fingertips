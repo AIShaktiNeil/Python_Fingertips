{
 "cells": [
  {
   "cell_type": "markdown",
   "id": "60f610b4-268f-458a-86fa-fa6f5ef6367d",
   "metadata": {},
   "source": [
    "## Condition 'if'"
   ]
  },
  {
   "cell_type": "code",
   "execution_count": 24,
   "id": "014aa126-51b0-471c-ac4e-c8ca5e14ba9f",
   "metadata": {},
   "outputs": [
    {
     "name": "stdout",
     "output_type": "stream",
     "text": [
      "Hello\n"
     ]
    }
   ],
   "source": [
    "if \"h\" in \"hello\":\n",
    "    print(\"Hello\")\n",
    "\n",
    "else: \n",
    "    print(\"NO\")   #\"else\" me kabhi condition nahi lagti"
   ]
  },
  {
   "cell_type": "code",
   "execution_count": 25,
   "id": "cef2d55a-c651-44e5-96c0-5e9b49dc23f8",
   "metadata": {},
   "outputs": [
    {
     "name": "stdout",
     "output_type": "stream",
     "text": [
      "Hello\n"
     ]
    }
   ],
   "source": [
    "if \"i\" in \"Nilesh\":\n",
    "    print(\"Hello\")\n",
    "\n",
    "elif \"o\" in \"Nilesh\":     #elif for extra 'n' no of conditions\n",
    "    print(\"NIce to meet you\")\n",
    "\n",
    "elif \"m\" in \"Nilesh\":\n",
    "    print(\"Hey\")\n",
    "else:\n",
    "    print(\"Go Home\")"
   ]
  },
  {
   "cell_type": "markdown",
   "id": "faef2663-55bb-4b8f-9e0d-874f4db513ae",
   "metadata": {},
   "source": [
    "## Nested \"if\""
   ]
  },
  {
   "cell_type": "code",
   "execution_count": 26,
   "id": "0e70cdba-063c-4cff-a188-072c1011568b",
   "metadata": {},
   "outputs": [
    {
     "name": "stdout",
     "output_type": "stream",
     "text": [
      "Hello\n",
      "Shatrughna sir\n"
     ]
    }
   ],
   "source": [
    "if \"N\" in \"Nilesh\":\n",
    "    print(\"Hello\")\n",
    "    if \"z\" in \"Nilesh\":\n",
    "        print(\"Welcome\")\n",
    "    else:\n",
    "        print(\"Shatrughna sir\")\n",
    "    \n",
    "\n",
    "elif \"o\" in \"Nilesh\":     \n",
    "    print(\"NIce to meet you\")\n",
    "\n",
    "elif \"m\" in \"Nilesh\":\n",
    "    print(\"Hey\")\n",
    "else:\n",
    "    print(\"Go Home\")"
   ]
  },
  {
   "cell_type": "markdown",
   "id": "ad05f0b7-0c82-43d6-ba1c-fd0f8413b710",
   "metadata": {},
   "source": [
    "## test /evaluation 4/10/2024"
   ]
  },
  {
   "cell_type": "code",
   "execution_count": 27,
   "id": "1c4e6426-1a1d-4162-a3cd-b1d0423e3305",
   "metadata": {},
   "outputs": [
    {
     "name": "stdin",
     "output_type": "stream",
     "text": [
      "enter a percentage 68\n"
     ]
    },
    {
     "name": "stdout",
     "output_type": "stream",
     "text": [
      "D\n"
     ]
    }
   ],
   "source": [
    "num = int(input(\"enter a percentage\"))\n",
    "p= num\n",
    "if (p>95):\n",
    "    \n",
    "    print(\"A+\")\n",
    "\n",
    "elif (p>90):     \n",
    "    print(\"A\")\n",
    "\n",
    "elif (p>80):    \n",
    "    print(\"B\")\n",
    "    \n",
    "elif (p>70):    \n",
    "    print(\"C\")\n",
    "\n",
    "elif (p>60):    \n",
    "    print(\"D\")\n",
    "else:\n",
    "    print(\"F\")"
   ]
  },
  {
   "cell_type": "markdown",
   "id": "2db6e1cd-9a55-410f-a4ff-945674ce45f3",
   "metadata": {},
   "source": [
    "## another sir method"
   ]
  },
  {
   "cell_type": "code",
   "execution_count": 28,
   "id": "3f5f4f0a-4266-4876-9316-d3ef388056ad",
   "metadata": {},
   "outputs": [
    {
     "name": "stdout",
     "output_type": "stream",
     "text": [
      "D\n"
     ]
    }
   ],
   "source": [
    "if p>=95:\n",
    "    print(\"A+\")\n",
    "else:\n",
    "    if p>90:\n",
    "        print(\"A\")\n",
    "    else:\n",
    "        if p>80:\n",
    "            print(\"B\")\n",
    "        else:\n",
    "            if p>70:\n",
    "                print(\"C\")\n",
    "            else:\n",
    "                if p>60:\n",
    "                    print(\"D\")\n",
    "                else:\n",
    "                    print(\"F\")"
   ]
  },
  {
   "cell_type": "markdown",
   "id": "e3e8723c-6670-4521-8bd9-56d692d44c5a",
   "metadata": {},
   "source": [
    "## loops\n",
    " #### while loop"
   ]
  },
  {
   "cell_type": "code",
   "execution_count": 29,
   "id": "dda53513-2644-419d-9aa8-77d815a9bfed",
   "metadata": {},
   "outputs": [
    {
     "name": "stdout",
     "output_type": "stream",
     "text": [
      "1\n",
      "2\n",
      "3\n",
      "4\n",
      "5\n",
      "6\n",
      "7\n",
      "8\n",
      "9\n",
      "10\n"
     ]
    }
   ],
   "source": [
    "i = 1\n",
    "while i <= 10:\n",
    "    print(i)\n",
    "    i = i+1"
   ]
  },
  {
   "cell_type": "code",
   "execution_count": 1,
   "id": "2a9e4521-c1f3-4009-ad8a-7b29b656bfaa",
   "metadata": {},
   "outputs": [
    {
     "name": "stdout",
     "output_type": "stream",
     "text": [
      "1\n",
      "2\n",
      "3\n",
      "4\n",
      "5\n",
      "6\n",
      "7\n",
      "8\n",
      "9\n",
      "10\n"
     ]
    }
   ],
   "source": [
    "i = 1\n",
    "while i <= 10:\n",
    "    print(i)\n",
    "    i = i+1"
   ]
  },
  {
   "cell_type": "code",
   "execution_count": 2,
   "id": "5fb6edb6-1798-4cc1-a388-4db1c8bb3db3",
   "metadata": {},
   "outputs": [
    {
     "name": "stdout",
     "output_type": "stream",
     "text": [
      "5\n",
      "10\n",
      "15\n",
      "20\n",
      "25\n",
      "30\n",
      "35\n",
      "40\n",
      "45\n",
      "50\n",
      "55\n",
      "60\n",
      "65\n",
      "70\n",
      "75\n",
      "80\n",
      "85\n",
      "90\n",
      "95\n",
      "100\n"
     ]
    }
   ],
   "source": [
    "i = 1\n",
    "while i <= 100:\n",
    "    if i%5==0:\n",
    "        print(i)\n",
    "    i+=1"
   ]
  },
  {
   "cell_type": "markdown",
   "id": "6240dbfd-427c-42fc-8424-3689bdf4676b",
   "metadata": {},
   "source": [
    "# For loop"
   ]
  },
  {
   "cell_type": "code",
   "execution_count": 5,
   "id": "68c29364-eeac-47ee-829f-24f85d063f66",
   "metadata": {},
   "outputs": [
    {
     "name": "stdout",
     "output_type": "stream",
     "text": [
      "1\n",
      "2\n",
      "3\n",
      "4\n"
     ]
    }
   ],
   "source": [
    "for i in range (1,101):\n",
    "    if i%5==0:\n",
    "        print(i)"
   ]
  },
  {
   "cell_type": "code",
   "execution_count": 6,
   "id": "f5be1edb-6bf2-4c0e-b5d6-b0c029d6241f",
   "metadata": {},
   "outputs": [
    {
     "name": "stdout",
     "output_type": "stream",
     "text": [
      "1\n",
      "2\n",
      "3\n",
      "4\n",
      "6\n",
      "7\n",
      "8\n",
      "9\n",
      "11\n",
      "12\n",
      "13\n",
      "14\n",
      "16\n",
      "17\n",
      "18\n",
      "19\n",
      "21\n",
      "22\n",
      "23\n",
      "24\n",
      "26\n",
      "27\n",
      "28\n",
      "29\n",
      "31\n",
      "32\n",
      "33\n",
      "34\n",
      "36\n",
      "37\n",
      "38\n",
      "39\n",
      "41\n",
      "42\n",
      "43\n",
      "44\n",
      "46\n",
      "47\n",
      "48\n",
      "49\n"
     ]
    }
   ],
   "source": [
    "for i in range (1,50):\n",
    "    if i%5==0:\n",
    "        continue\n",
    "    print(i)"
   ]
  },
  {
   "cell_type": "code",
   "execution_count": 7,
   "id": "04e39aee-0340-43b2-b332-126a64c14e5f",
   "metadata": {},
   "outputs": [
    {
     "name": "stdout",
     "output_type": "stream",
     "text": [
      "1\n",
      "2\n",
      "3\n",
      "4\n"
     ]
    }
   ],
   "source": [
    "for i in range (1,50):\n",
    "    if i%5==0:\n",
    "        break\n",
    "    print(i)"
   ]
  },
  {
   "cell_type": "code",
   "execution_count": 23,
   "id": "a718f554-2859-4ef7-8066-fedc5a295527",
   "metadata": {},
   "outputs": [
    {
     "name": "stdout",
     "output_type": "stream",
     "text": [
      "1\n",
      "4\n",
      "7\n",
      "10\n",
      "13\n",
      "16\n",
      "19\n",
      "22\n",
      "25\n",
      "28\n",
      "31\n",
      "34\n",
      "37\n",
      "40\n",
      "43\n",
      "46\n",
      "49\n"
     ]
    }
   ],
   "source": [
    "for i in range (1,50,3):  # 3 is increment\n",
    "    if i%3==0:\n",
    "        continue\n",
    "    print(i)"
   ]
  },
  {
   "cell_type": "code",
   "execution_count": 12,
   "id": "14cdf7b2-0285-46bb-a290-8ed844707b44",
   "metadata": {},
   "outputs": [
    {
     "name": "stdout",
     "output_type": "stream",
     "text": [
      "1\n",
      "2\n",
      "3\n",
      "4\n",
      "5\n",
      "1\n",
      "2\n",
      "3\n",
      "4\n",
      "5\n",
      "1\n",
      "2\n",
      "3\n",
      "4\n",
      "5\n",
      "1\n",
      "2\n",
      "3\n",
      "4\n",
      "5\n",
      "1\n",
      "2\n",
      "3\n",
      "4\n",
      "5\n"
     ]
    }
   ],
   "source": [
    "for j in range(1,6):\n",
    "    for i in range(1,6):\n",
    "        print(i)"
   ]
  },
  {
   "cell_type": "code",
   "execution_count": 22,
   "id": "cd6a1ece-b55e-40b1-8514-4a0858097667",
   "metadata": {},
   "outputs": [
    {
     "name": "stdout",
     "output_type": "stream",
     "text": [
      "12345\n",
      "12345\n",
      "12345\n",
      "12345\n",
      "12345\n"
     ]
    }
   ],
   "source": [
    "for j in range(1,6):\n",
    "# use tab space\n",
    "    for i in range(1,6):\n",
    "        print(i,end=\"\")\n",
    "    print()   "
   ]
  },
  {
   "cell_type": "code",
   "execution_count": 1,
   "id": "5baa65e9-091d-4c21-a8fc-661f5521ea70",
   "metadata": {},
   "outputs": [
    {
     "name": "stdout",
     "output_type": "stream",
     "text": [
      "0\n",
      "1\n",
      "2\n",
      "3\n",
      "4\n",
      "5\n",
      "6\n",
      "7\n",
      "8\n",
      "9\n"
     ]
    }
   ],
   "source": [
    "for i in range(10):\n",
    "    print(i)"
   ]
  },
  {
   "cell_type": "code",
   "execution_count": 3,
   "id": "33331624-8220-492b-89cd-0839ced94d50",
   "metadata": {},
   "outputs": [
    {
     "name": "stdout",
     "output_type": "stream",
     "text": [
      "0\n",
      "1\n",
      "2\n",
      "3\n",
      "4\n",
      "5\n",
      "6\n",
      "7\n",
      "8\n",
      "9\n",
      "0\n",
      "1\n",
      "2\n",
      "3\n",
      "4\n",
      "5\n",
      "6\n",
      "7\n",
      "8\n",
      "9\n",
      "0\n",
      "1\n",
      "2\n",
      "3\n",
      "4\n",
      "5\n",
      "6\n",
      "7\n",
      "8\n",
      "9\n"
     ]
    }
   ],
   "source": [
    "for j in range(3):\n",
    "    for i in range(10):\n",
    "        print(i)"
   ]
  },
  {
   "cell_type": "markdown",
   "id": "9291e3c5-0ce0-421b-b5c1-ebd258a6b2aa",
   "metadata": {},
   "source": [
    "# functions Date and time"
   ]
  },
  {
   "cell_type": "code",
   "execution_count": 4,
   "id": "56f3eacd-7e93-4d6f-9f4f-ebc9a9766d8e",
   "metadata": {},
   "outputs": [
    {
     "name": "stdin",
     "output_type": "stream",
     "text": [
      " 5\n"
     ]
    }
   ],
   "source": [
    "date = int(input())"
   ]
  },
  {
   "cell_type": "code",
   "execution_count": 5,
   "id": "f45ce19b-f27c-48fd-bde5-8757b7881e74",
   "metadata": {},
   "outputs": [
    {
     "name": "stdout",
     "output_type": "stream",
     "text": [
      "5 * 1 = 5\n",
      "hello 1\n",
      "5 * 2 = 10\n",
      "hello 2\n",
      "5 * 3 = 15\n",
      "hello 3\n",
      "5 * 4 = 20\n",
      "hello 4\n",
      "5 * 5 = 25\n",
      "hello 5\n",
      "5 * 6 = 30\n",
      "hello 6\n",
      "5 * 7 = 35\n",
      "hello 7\n",
      "5 * 8 = 40\n",
      "hello 8\n",
      "5 * 9 = 45\n",
      "hello 9\n",
      "5 * 10 = 50\n",
      "hello 10\n"
     ]
    }
   ],
   "source": [
    "for i in range(1,11):\n",
    "    print(date,\"*\",i,\"=\",(date*i))\n",
    "    print(\"hello\",i)\n"
   ]
  },
  {
   "cell_type": "code",
   "execution_count": 14,
   "id": "716fe193-c792-4299-8f91-15c10512a595",
   "metadata": {},
   "outputs": [],
   "source": [
    "def date(date):   #def ke baad nam dena ki vo hum jyada use nahi karte\n",
    "    for i in range(1,11):\n",
    "        print(date,\"*\",i,\"=\",(date*i))\n",
    "        print(\"hello\",i)"
   ]
  },
  {
   "cell_type": "code",
   "execution_count": 10,
   "id": "e3976880-686f-4bed-85ba-0c1d93a7aedb",
   "metadata": {},
   "outputs": [
    {
     "name": "stdout",
     "output_type": "stream",
     "text": [
      "5.1 * 1 = 5.1\n",
      "hello 1\n",
      "5.1 * 2 = 10.2\n",
      "hello 2\n",
      "5.1 * 3 = 15.299999999999999\n",
      "hello 3\n",
      "5.1 * 4 = 20.4\n",
      "hello 4\n",
      "5.1 * 5 = 25.5\n",
      "hello 5\n",
      "5.1 * 6 = 30.599999999999998\n",
      "hello 6\n",
      "5.1 * 7 = 35.699999999999996\n",
      "hello 7\n",
      "5.1 * 8 = 40.8\n",
      "hello 8\n",
      "5.1 * 9 = 45.9\n",
      "hello 9\n",
      "5.1 * 10 = 51.0\n",
      "hello 10\n"
     ]
    }
   ],
   "source": [
    "date(5.1)"
   ]
  },
  {
   "cell_type": "code",
   "execution_count": 16,
   "id": "f4d66e2b-4959-46c0-ba04-2fe29f307082",
   "metadata": {},
   "outputs": [
    {
     "name": "stdout",
     "output_type": "stream",
     "text": [
      "(10, 20, 50) * 1 = (10, 20, 50)\n",
      "hello 1\n",
      "(10, 20, 50) * 2 = (10, 20, 50, 10, 20, 50)\n",
      "hello 2\n",
      "(10, 20, 50) * 3 = (10, 20, 50, 10, 20, 50, 10, 20, 50)\n",
      "hello 3\n",
      "(10, 20, 50) * 4 = (10, 20, 50, 10, 20, 50, 10, 20, 50, 10, 20, 50)\n",
      "hello 4\n",
      "(10, 20, 50) * 5 = (10, 20, 50, 10, 20, 50, 10, 20, 50, 10, 20, 50, 10, 20, 50)\n",
      "hello 5\n",
      "(10, 20, 50) * 6 = (10, 20, 50, 10, 20, 50, 10, 20, 50, 10, 20, 50, 10, 20, 50, 10, 20, 50)\n",
      "hello 6\n",
      "(10, 20, 50) * 7 = (10, 20, 50, 10, 20, 50, 10, 20, 50, 10, 20, 50, 10, 20, 50, 10, 20, 50, 10, 20, 50)\n",
      "hello 7\n",
      "(10, 20, 50) * 8 = (10, 20, 50, 10, 20, 50, 10, 20, 50, 10, 20, 50, 10, 20, 50, 10, 20, 50, 10, 20, 50, 10, 20, 50)\n",
      "hello 8\n",
      "(10, 20, 50) * 9 = (10, 20, 50, 10, 20, 50, 10, 20, 50, 10, 20, 50, 10, 20, 50, 10, 20, 50, 10, 20, 50, 10, 20, 50, 10, 20, 50)\n",
      "hello 9\n",
      "(10, 20, 50) * 10 = (10, 20, 50, 10, 20, 50, 10, 20, 50, 10, 20, 50, 10, 20, 50, 10, 20, 50, 10, 20, 50, 10, 20, 50, 10, 20, 50, 10, 20, 50)\n",
      "hello 10\n"
     ]
    }
   ],
   "source": [
    "date((10,20,50))   #use doubble paranthesis for more than one input"
   ]
  },
  {
   "cell_type": "markdown",
   "id": "151f8549-e7dc-4dd4-bc35-a9bf13f63ef9",
   "metadata": {},
   "source": [
    "# function"
   ]
  },
  {
   "cell_type": "code",
   "execution_count": 31,
   "id": "3b4455b5-cc47-4988-a482-8579cc99262c",
   "metadata": {},
   "outputs": [],
   "source": [
    "def s(a,b):\n",
    "    print(a/b)\n",
    "    return(a+b),(a*b),(a-b)\n",
    "    "
   ]
  },
  {
   "cell_type": "code",
   "execution_count": 19,
   "id": "5d8e7719-20b9-47a4-92d4-69a10319fc4d",
   "metadata": {},
   "outputs": [
    {
     "data": {
      "text/plain": [
       "<function __main__.s(a, b)>"
      ]
     },
     "execution_count": 19,
     "metadata": {},
     "output_type": "execute_result"
    }
   ],
   "source": [
    "s"
   ]
  },
  {
   "cell_type": "code",
   "execution_count": 22,
   "id": "c77192df-264b-4fa5-a540-223e84c5c36e",
   "metadata": {},
   "outputs": [],
   "source": [
    "a,b = s(10,20)"
   ]
  },
  {
   "cell_type": "code",
   "execution_count": 27,
   "id": "cdcc6e7e-7ccd-4639-bc63-64eb5ee5fbb1",
   "metadata": {},
   "outputs": [
    {
     "name": "stdout",
     "output_type": "stream",
     "text": [
      "0.5\n"
     ]
    }
   ],
   "source": [
    "add,mult=s(10,20)"
   ]
  },
  {
   "cell_type": "code",
   "execution_count": 28,
   "id": "041e5c3f-9ce5-4e96-aa73-82e00a45943a",
   "metadata": {},
   "outputs": [
    {
     "data": {
      "text/plain": [
       "200"
      ]
     },
     "execution_count": 28,
     "metadata": {},
     "output_type": "execute_result"
    }
   ],
   "source": [
    "mult"
   ]
  },
  {
   "cell_type": "code",
   "execution_count": 29,
   "id": "2788c8d3-8f68-4495-92aa-b3cfdbadce5a",
   "metadata": {},
   "outputs": [],
   "source": [
    "a,b,c =40,20,25"
   ]
  },
  {
   "cell_type": "code",
   "execution_count": 32,
   "id": "8f2e2cb9-6f3d-4c06-b17e-4422c2f04109",
   "metadata": {},
   "outputs": [
    {
     "name": "stdout",
     "output_type": "stream",
     "text": [
      "2.0\n"
     ]
    },
    {
     "data": {
      "text/plain": [
       "(60, 800, 20)"
      ]
     },
     "execution_count": 32,
     "metadata": {},
     "output_type": "execute_result"
    }
   ],
   "source": [
    "s(40,20)    # (40+20),(40*20),(40-20)= (60,800,20)"
   ]
  },
  {
   "cell_type": "code",
   "execution_count": 36,
   "id": "facc1d8c-911c-4834-9edd-0a535acab6f7",
   "metadata": {},
   "outputs": [],
   "source": [
    "def s(a=30,b=40):\n",
    "    print(a+b)"
   ]
  },
  {
   "cell_type": "code",
   "execution_count": 37,
   "id": "0d16c4f8-1bca-4465-96d5-26c2ce07f2ac",
   "metadata": {},
   "outputs": [
    {
     "name": "stdout",
     "output_type": "stream",
     "text": [
      "70\n"
     ]
    }
   ],
   "source": [
    "s()"
   ]
  },
  {
   "cell_type": "code",
   "execution_count": 38,
   "id": "9be3b4ce-2ca8-4bf7-b35e-4a62b54c035b",
   "metadata": {},
   "outputs": [
    {
     "name": "stdout",
     "output_type": "stream",
     "text": [
      "350\n"
     ]
    }
   ],
   "source": [
    "s(100,250)"
   ]
  },
  {
   "cell_type": "code",
   "execution_count": 39,
   "id": "fa6181e4-f025-4463-8ca7-10d7adb5326b",
   "metadata": {},
   "outputs": [
    {
     "name": "stdout",
     "output_type": "stream",
     "text": [
      "530\n"
     ]
    }
   ],
   "source": [
    "s(b=500)  # it passed on to main function check 36 line code"
   ]
  },
  {
   "cell_type": "code",
   "execution_count": 53,
   "id": "0ab7e27f-8699-4aae-9f24-992fc43a2491",
   "metadata": {},
   "outputs": [],
   "source": [
    "def s(*a):\n",
    "    sum=0\n",
    "    for i in a:\n",
    "        sum=sum+i\n",
    "    return sum  "
   ]
  },
  {
   "cell_type": "code",
   "execution_count": 54,
   "id": "414f6b61-495f-4b39-afd8-bef7648f549e",
   "metadata": {},
   "outputs": [],
   "source": [
    "#s(10,20) \n",
    "    #or\n",
    "b=s(10,50,22,60,50,80)"
   ]
  },
  {
   "cell_type": "code",
   "execution_count": 55,
   "id": "dafa1a6e-784f-4bde-9b94-9e6e86158b3b",
   "metadata": {},
   "outputs": [
    {
     "data": {
      "text/plain": [
       "272"
      ]
     },
     "execution_count": 55,
     "metadata": {},
     "output_type": "execute_result"
    }
   ],
   "source": [
    "b"
   ]
  },
  {
   "cell_type": "markdown",
   "id": "340e2361-077e-403b-a70b-da292cc9b902",
   "metadata": {},
   "source": [
    "# factorial !"
   ]
  },
  {
   "cell_type": "code",
   "execution_count": 59,
   "id": "1e34e21a-25c6-4013-b40e-7bae6f5006ef",
   "metadata": {},
   "outputs": [
    {
     "name": "stdout",
     "output_type": "stream",
     "text": [
      "24\n"
     ]
    }
   ],
   "source": [
    "prod = 1\n",
    "for i in range(1,5):\n",
    "    prod=prod*i\n",
    "print(prod)   "
   ]
  },
  {
   "cell_type": "code",
   "execution_count": 68,
   "id": "685f1cb1-fd24-480f-abdf-616d2e07a58d",
   "metadata": {},
   "outputs": [],
   "source": [
    "n=5\n",
    "\n",
    "def z(n):\n",
    "    if n==0:\n",
    "        return(1)\n",
    "    else:\n",
    "        return n*z(n-1)  # 5*(5-1)"
   ]
  },
  {
   "cell_type": "code",
   "execution_count": 69,
   "id": "81f32353-c11b-457d-98a1-a7efa001817e",
   "metadata": {},
   "outputs": [
    {
     "data": {
      "text/plain": [
       "120"
      ]
     },
     "execution_count": 69,
     "metadata": {},
     "output_type": "execute_result"
    }
   ],
   "source": [
    "z(n)"
   ]
  },
  {
   "cell_type": "markdown",
   "id": "c5cbef8e-b888-4cb0-899c-1fb41b2b5c40",
   "metadata": {},
   "source": [
    "# fibonnachi series"
   ]
  },
  {
   "cell_type": "code",
   "execution_count": 71,
   "id": "f2798917-48b6-4e4c-b933-bd41d407849a",
   "metadata": {},
   "outputs": [
    {
     "name": "stdout",
     "output_type": "stream",
     "text": [
      "0\n",
      "1\n",
      "1\n",
      "2\n",
      "3\n",
      "5\n",
      "8\n",
      "13\n",
      "21\n",
      "34\n"
     ]
    }
   ],
   "source": [
    "a=0\n",
    "b=1\n",
    "for i in range(10):\n",
    "    print(a)\n",
    "    c=a+b\n",
    "    a=b\n",
    "    b=c\n"
   ]
  },
  {
   "cell_type": "markdown",
   "id": "05fa039a-0119-4c62-a8f0-acead6b785d6",
   "metadata": {},
   "source": [
    "#### think reverse in fibonacchi series another method IMP RECURSIVE FUNCTION"
   ]
  },
  {
   "cell_type": "code",
   "execution_count": 72,
   "id": "df22fc19-8c95-45d7-8430-781a05e3a3f6",
   "metadata": {},
   "outputs": [],
   "source": [
    "def fib(n):\n",
    "    if n==1 or n==0:\n",
    "        return n\n",
    "    else:\n",
    "        return fib(n-1)+fib(n-2)"
   ]
  },
  {
   "cell_type": "code",
   "execution_count": 77,
   "id": "1abb8593-4cc3-4f79-a04d-47b57c902dec",
   "metadata": {},
   "outputs": [
    {
     "data": {
      "text/plain": [
       "610"
      ]
     },
     "execution_count": 77,
     "metadata": {},
     "output_type": "execute_result"
    }
   ],
   "source": [
    "fib(15)"
   ]
  },
  {
   "cell_type": "markdown",
   "id": "3a8f8c29-bcc2-4c16-acf2-c956f0638a57",
   "metadata": {},
   "source": [
    "#### Lambda function   for small storage function"
   ]
  },
  {
   "cell_type": "code",
   "execution_count": 78,
   "id": "760cd5c4-7895-4e38-9b0e-eeda8bc7f46d",
   "metadata": {},
   "outputs": [],
   "source": [
    "x= lambda a:a*10"
   ]
  },
  {
   "cell_type": "code",
   "execution_count": 79,
   "id": "ed9bce62-0b1c-434b-bc8a-7709d7428b06",
   "metadata": {},
   "outputs": [
    {
     "data": {
      "text/plain": [
       "100"
      ]
     },
     "execution_count": 79,
     "metadata": {},
     "output_type": "execute_result"
    }
   ],
   "source": [
    "x(10)"
   ]
  },
  {
   "cell_type": "code",
   "execution_count": 83,
   "id": "54323085-21e8-4d51-a1f0-4ce2944211eb",
   "metadata": {},
   "outputs": [],
   "source": [
    "x= lambda a,b,c: a-b-c"
   ]
  },
  {
   "cell_type": "code",
   "execution_count": 84,
   "id": "d0f4509b-8555-4d7a-8a42-1569fd2db115",
   "metadata": {},
   "outputs": [
    {
     "data": {
      "text/plain": [
       "3"
      ]
     },
     "execution_count": 84,
     "metadata": {},
     "output_type": "execute_result"
    }
   ],
   "source": [
    "x(10,5,2)"
   ]
  },
  {
   "cell_type": "code",
   "execution_count": 15,
   "id": "929cbccd-0463-43b0-8a37-f75176f51180",
   "metadata": {},
   "outputs": [],
   "source": [
    "li= [[10,20,30,40,50],[20,25,None,60,57]]"
   ]
  },
  {
   "cell_type": "code",
   "execution_count": 4,
   "id": "501c5c81-eb16-47b4-b8cf-d9a175b950fe",
   "metadata": {},
   "outputs": [
    {
     "name": "stdout",
     "output_type": "stream",
     "text": [
      "Defaulting to user installation because normal site-packages is not writeable\n",
      "Requirement already satisfied: pandas in c:\\programdata\\anaconda3\\lib\\site-packages (2.2.2)\n",
      "Requirement already satisfied: numpy>=1.26.0 in c:\\programdata\\anaconda3\\lib\\site-packages (from pandas) (1.26.4)\n",
      "Requirement already satisfied: python-dateutil>=2.8.2 in c:\\programdata\\anaconda3\\lib\\site-packages (from pandas) (2.9.0.post0)\n",
      "Requirement already satisfied: pytz>=2020.1 in c:\\programdata\\anaconda3\\lib\\site-packages (from pandas) (2024.1)\n",
      "Requirement already satisfied: tzdata>=2022.7 in c:\\programdata\\anaconda3\\lib\\site-packages (from pandas) (2023.3)\n",
      "Requirement already satisfied: six>=1.5 in c:\\programdata\\anaconda3\\lib\\site-packages (from python-dateutil>=2.8.2->pandas) (1.16.0)\n"
     ]
    }
   ],
   "source": [
    "!pip install pandas "
   ]
  },
  {
   "cell_type": "code",
   "execution_count": 7,
   "id": "f78759b8-16b8-4977-b1b0-accd185c3092",
   "metadata": {},
   "outputs": [],
   "source": [
    "import pandas as pd"
   ]
  },
  {
   "cell_type": "code",
   "execution_count": 9,
   "id": "b1b2e904-08ea-4e29-8dd2-5e34a2f5ab08",
   "metadata": {},
   "outputs": [],
   "source": [
    "data = pd.Series(li)"
   ]
  },
  {
   "cell_type": "code",
   "execution_count": 10,
   "id": "747a1d85-537f-4679-8e10-3bbda47561cc",
   "metadata": {},
   "outputs": [
    {
     "data": {
      "text/plain": [
       "0    10\n",
       "1    20\n",
       "2    30\n",
       "3    40\n",
       "4    50\n",
       "dtype: int64"
      ]
     },
     "execution_count": 10,
     "metadata": {},
     "output_type": "execute_result"
    }
   ],
   "source": [
    "data"
   ]
  },
  {
   "cell_type": "code",
   "execution_count": 11,
   "id": "11755272-e813-47f6-86ec-1508248100a3",
   "metadata": {},
   "outputs": [
    {
     "data": {
      "text/plain": [
       "pandas.core.series.Series"
      ]
     },
     "execution_count": 11,
     "metadata": {},
     "output_type": "execute_result"
    }
   ],
   "source": [
    "type(data)"
   ]
  },
  {
   "cell_type": "code",
   "execution_count": 12,
   "id": "97f50e3d-9891-4a77-b3a5-57a5aa70e3ae",
   "metadata": {},
   "outputs": [
    {
     "data": {
      "text/plain": [
       "(5,)"
      ]
     },
     "execution_count": 12,
     "metadata": {},
     "output_type": "execute_result"
    }
   ],
   "source": [
    "data.shape"
   ]
  },
  {
   "cell_type": "code",
   "execution_count": 16,
   "id": "99ca421a-361e-42a0-9f76-8f66005e324e",
   "metadata": {},
   "outputs": [
    {
     "data": {
      "text/plain": [
       "[[10, 20, 30, 40, 50], [20, 25, None, 60, 57]]"
      ]
     },
     "execution_count": 16,
     "metadata": {},
     "output_type": "execute_result"
    }
   ],
   "source": [
    "li"
   ]
  },
  {
   "cell_type": "code",
   "execution_count": 17,
   "id": "dc3f035c-76c1-4961-979a-56ec71daee71",
   "metadata": {},
   "outputs": [],
   "source": [
    "df=pd.DataFrame(li)"
   ]
  },
  {
   "cell_type": "code",
   "execution_count": 18,
   "id": "09c2abde-76d2-4be5-a9dc-2e46d589a9c2",
   "metadata": {},
   "outputs": [
    {
     "data": {
      "text/html": [
       "<div>\n",
       "<style scoped>\n",
       "    .dataframe tbody tr th:only-of-type {\n",
       "        vertical-align: middle;\n",
       "    }\n",
       "\n",
       "    .dataframe tbody tr th {\n",
       "        vertical-align: top;\n",
       "    }\n",
       "\n",
       "    .dataframe thead th {\n",
       "        text-align: right;\n",
       "    }\n",
       "</style>\n",
       "<table border=\"1\" class=\"dataframe\">\n",
       "  <thead>\n",
       "    <tr style=\"text-align: right;\">\n",
       "      <th></th>\n",
       "      <th>0</th>\n",
       "      <th>1</th>\n",
       "      <th>2</th>\n",
       "      <th>3</th>\n",
       "      <th>4</th>\n",
       "    </tr>\n",
       "  </thead>\n",
       "  <tbody>\n",
       "    <tr>\n",
       "      <th>0</th>\n",
       "      <td>10</td>\n",
       "      <td>20</td>\n",
       "      <td>30.0</td>\n",
       "      <td>40</td>\n",
       "      <td>50</td>\n",
       "    </tr>\n",
       "    <tr>\n",
       "      <th>1</th>\n",
       "      <td>20</td>\n",
       "      <td>25</td>\n",
       "      <td>NaN</td>\n",
       "      <td>60</td>\n",
       "      <td>57</td>\n",
       "    </tr>\n",
       "  </tbody>\n",
       "</table>\n",
       "</div>"
      ],
      "text/plain": [
       "    0   1     2   3   4\n",
       "0  10  20  30.0  40  50\n",
       "1  20  25   NaN  60  57"
      ]
     },
     "execution_count": 18,
     "metadata": {},
     "output_type": "execute_result"
    }
   ],
   "source": [
    "df"
   ]
  },
  {
   "cell_type": "code",
   "execution_count": 19,
   "id": "81ca89f5-20eb-47c4-8159-1e952695eb1b",
   "metadata": {},
   "outputs": [
    {
     "data": {
      "text/plain": [
       "(2, 5)"
      ]
     },
     "execution_count": 19,
     "metadata": {},
     "output_type": "execute_result"
    }
   ],
   "source": [
    "df.shape"
   ]
  },
  {
   "cell_type": "code",
   "execution_count": 20,
   "id": "9c334fcd-daad-48c9-b9cb-94533b900ef7",
   "metadata": {},
   "outputs": [
    {
     "data": {
      "text/plain": [
       "pandas.core.frame.DataFrame"
      ]
     },
     "execution_count": 20,
     "metadata": {},
     "output_type": "execute_result"
    }
   ],
   "source": [
    "type(df)"
   ]
  },
  {
   "cell_type": "markdown",
   "id": "2861b633-eaca-4863-a57e-2ec7355af463",
   "metadata": {},
   "source": [
    "# read command"
   ]
  },
  {
   "cell_type": "code",
   "execution_count": 21,
   "id": "c1580cbb-c280-4a2c-a4fb-f7af03bccf60",
   "metadata": {},
   "outputs": [],
   "source": [
    "data=pd.read_excel(r\"C:\\Users\\DELL\\Downloads\\Pandas Session 1 Resources 16922586003.xlsx\")"
   ]
  },
  {
   "cell_type": "code",
   "execution_count": null,
   "id": "663907be-c3b4-4a21-ab92-0a8a2ea53d48",
   "metadata": {},
   "outputs": [],
   "source": [
    "# another method to read file is use \\\\ or / to read file by python\n",
    "\n",
    "#to find path right click to file:rightclick: security there you can see file path"
   ]
  },
  {
   "cell_type": "code",
   "execution_count": 22,
   "id": "b97b072d-0525-4a21-a469-d2f3d18fc3fc",
   "metadata": {},
   "outputs": [
    {
     "data": {
      "text/html": [
       "<div>\n",
       "<style scoped>\n",
       "    .dataframe tbody tr th:only-of-type {\n",
       "        vertical-align: middle;\n",
       "    }\n",
       "\n",
       "    .dataframe tbody tr th {\n",
       "        vertical-align: top;\n",
       "    }\n",
       "\n",
       "    .dataframe thead th {\n",
       "        text-align: right;\n",
       "    }\n",
       "</style>\n",
       "<table border=\"1\" class=\"dataframe\">\n",
       "  <thead>\n",
       "    <tr style=\"text-align: right;\">\n",
       "      <th></th>\n",
       "      <th>Region</th>\n",
       "      <th>Country</th>\n",
       "      <th>Item_Type</th>\n",
       "      <th>Sales_Channel</th>\n",
       "      <th>Order_Priority</th>\n",
       "      <th>Ship_Date</th>\n",
       "      <th>Unit_Cost</th>\n",
       "      <th>Total_Revenue</th>\n",
       "      <th>Total_Profit</th>\n",
       "    </tr>\n",
       "  </thead>\n",
       "  <tbody>\n",
       "    <tr>\n",
       "      <th>0</th>\n",
       "      <td>Australia and Oceania</td>\n",
       "      <td>Tuvalu</td>\n",
       "      <td>Baby Food</td>\n",
       "      <td>Offline</td>\n",
       "      <td>H</td>\n",
       "      <td>2010-06-27</td>\n",
       "      <td>159.42</td>\n",
       "      <td>2533654.00</td>\n",
       "      <td>951410.50</td>\n",
       "    </tr>\n",
       "    <tr>\n",
       "      <th>1</th>\n",
       "      <td>Central America and the Caribbean</td>\n",
       "      <td>Grenada</td>\n",
       "      <td>Cereal</td>\n",
       "      <td>Online</td>\n",
       "      <td>C</td>\n",
       "      <td>2012-09-15</td>\n",
       "      <td>117.11</td>\n",
       "      <td>576782.80</td>\n",
       "      <td>248406.36</td>\n",
       "    </tr>\n",
       "    <tr>\n",
       "      <th>2</th>\n",
       "      <td>Europe</td>\n",
       "      <td>Russia</td>\n",
       "      <td>Office Supplies</td>\n",
       "      <td>Offline</td>\n",
       "      <td>L</td>\n",
       "      <td>2014-08-05</td>\n",
       "      <td>524.96</td>\n",
       "      <td>1158502.59</td>\n",
       "      <td>224598.75</td>\n",
       "    </tr>\n",
       "    <tr>\n",
       "      <th>3</th>\n",
       "      <td>Sub_Saharan Africa</td>\n",
       "      <td>Sao Tome and Principe</td>\n",
       "      <td>Fruits</td>\n",
       "      <td>Online</td>\n",
       "      <td>C</td>\n",
       "      <td>2014-05-07</td>\n",
       "      <td>6.92</td>\n",
       "      <td>75591.66</td>\n",
       "      <td>19525.82</td>\n",
       "    </tr>\n",
       "    <tr>\n",
       "      <th>4</th>\n",
       "      <td>Sub_Saharan Africa</td>\n",
       "      <td>Rwanda</td>\n",
       "      <td>Office Supplies</td>\n",
       "      <td>Offline</td>\n",
       "      <td>L</td>\n",
       "      <td>2013-06-02</td>\n",
       "      <td>524.96</td>\n",
       "      <td>3296425.02</td>\n",
       "      <td>639077.50</td>\n",
       "    </tr>\n",
       "    <tr>\n",
       "      <th>...</th>\n",
       "      <td>...</td>\n",
       "      <td>...</td>\n",
       "      <td>...</td>\n",
       "      <td>...</td>\n",
       "      <td>...</td>\n",
       "      <td>...</td>\n",
       "      <td>...</td>\n",
       "      <td>...</td>\n",
       "      <td>...</td>\n",
       "    </tr>\n",
       "    <tr>\n",
       "      <th>95</th>\n",
       "      <td>Sub_Saharan Africa</td>\n",
       "      <td>Mali</td>\n",
       "      <td>Clothes</td>\n",
       "      <td>Online</td>\n",
       "      <td>M</td>\n",
       "      <td>2011-03-09</td>\n",
       "      <td>35.84</td>\n",
       "      <td>97040.64</td>\n",
       "      <td>65214.72</td>\n",
       "    </tr>\n",
       "    <tr>\n",
       "      <th>96</th>\n",
       "      <td>Asia</td>\n",
       "      <td>Malaysia</td>\n",
       "      <td>Fruits</td>\n",
       "      <td>Offline</td>\n",
       "      <td>L</td>\n",
       "      <td>2011-12-28</td>\n",
       "      <td>6.92</td>\n",
       "      <td>58471.11</td>\n",
       "      <td>15103.47</td>\n",
       "    </tr>\n",
       "    <tr>\n",
       "      <th>97</th>\n",
       "      <td>Sub_Saharan Africa</td>\n",
       "      <td>Sierra Leone</td>\n",
       "      <td>Vegetables</td>\n",
       "      <td>Offline</td>\n",
       "      <td>C</td>\n",
       "      <td>2016-06-29</td>\n",
       "      <td>90.93</td>\n",
       "      <td>228779.10</td>\n",
       "      <td>93748.05</td>\n",
       "    </tr>\n",
       "    <tr>\n",
       "      <th>98</th>\n",
       "      <td>North America</td>\n",
       "      <td>Mexico</td>\n",
       "      <td>Personal Care</td>\n",
       "      <td>Offline</td>\n",
       "      <td>M</td>\n",
       "      <td>2015-08-08</td>\n",
       "      <td>56.67</td>\n",
       "      <td>471336.91</td>\n",
       "      <td>144521.02</td>\n",
       "    </tr>\n",
       "    <tr>\n",
       "      <th>99</th>\n",
       "      <td>Sub_Saharan Africa</td>\n",
       "      <td>Mozambique</td>\n",
       "      <td>Household</td>\n",
       "      <td>Offline</td>\n",
       "      <td>L</td>\n",
       "      <td>2012-02-15</td>\n",
       "      <td>502.54</td>\n",
       "      <td>3586605.09</td>\n",
       "      <td>889472.91</td>\n",
       "    </tr>\n",
       "  </tbody>\n",
       "</table>\n",
       "<p>100 rows × 9 columns</p>\n",
       "</div>"
      ],
      "text/plain": [
       "                               Region                Country        Item_Type  \\\n",
       "0               Australia and Oceania                 Tuvalu        Baby Food   \n",
       "1   Central America and the Caribbean                Grenada           Cereal   \n",
       "2                              Europe                 Russia  Office Supplies   \n",
       "3                  Sub_Saharan Africa  Sao Tome and Principe           Fruits   \n",
       "4                  Sub_Saharan Africa                 Rwanda  Office Supplies   \n",
       "..                                ...                    ...              ...   \n",
       "95                 Sub_Saharan Africa                   Mali          Clothes   \n",
       "96                               Asia               Malaysia           Fruits   \n",
       "97                 Sub_Saharan Africa           Sierra Leone       Vegetables   \n",
       "98                      North America                 Mexico    Personal Care   \n",
       "99                 Sub_Saharan Africa             Mozambique        Household   \n",
       "\n",
       "   Sales_Channel Order_Priority  Ship_Date  Unit_Cost  Total_Revenue  \\\n",
       "0        Offline              H 2010-06-27     159.42     2533654.00   \n",
       "1         Online              C 2012-09-15     117.11      576782.80   \n",
       "2        Offline              L 2014-08-05     524.96     1158502.59   \n",
       "3         Online              C 2014-05-07       6.92       75591.66   \n",
       "4        Offline              L 2013-06-02     524.96     3296425.02   \n",
       "..           ...            ...        ...        ...            ...   \n",
       "95        Online              M 2011-03-09      35.84       97040.64   \n",
       "96       Offline              L 2011-12-28       6.92       58471.11   \n",
       "97       Offline              C 2016-06-29      90.93      228779.10   \n",
       "98       Offline              M 2015-08-08      56.67      471336.91   \n",
       "99       Offline              L 2012-02-15     502.54     3586605.09   \n",
       "\n",
       "    Total_Profit  \n",
       "0      951410.50  \n",
       "1      248406.36  \n",
       "2      224598.75  \n",
       "3       19525.82  \n",
       "4      639077.50  \n",
       "..           ...  \n",
       "95      65214.72  \n",
       "96      15103.47  \n",
       "97      93748.05  \n",
       "98     144521.02  \n",
       "99     889472.91  \n",
       "\n",
       "[100 rows x 9 columns]"
      ]
     },
     "execution_count": 22,
     "metadata": {},
     "output_type": "execute_result"
    }
   ],
   "source": [
    "data"
   ]
  },
  {
   "cell_type": "code",
   "execution_count": 23,
   "id": "25affddb-4b45-42ab-9cbb-2dc681b40db0",
   "metadata": {},
   "outputs": [
    {
     "data": {
      "text/plain": [
       "'C:\\\\Users\\\\DELL'"
      ]
     },
     "execution_count": 23,
     "metadata": {},
     "output_type": "execute_result"
    }
   ],
   "source": [
    "pwd  # present working directory"
   ]
  },
  {
   "cell_type": "code",
   "execution_count": 24,
   "id": "12c7c2bb-d496-4aa1-a026-d8ebf9d12179",
   "metadata": {},
   "outputs": [
    {
     "name": "stdout",
     "output_type": "stream",
     "text": [
      "C:\\Users\\DELL\n"
     ]
    }
   ],
   "source": [
    "cd   #change in directory"
   ]
  },
  {
   "cell_type": "code",
   "execution_count": 25,
   "id": "9d0becb1-4a12-4871-b3ec-eefbce1fcd26",
   "metadata": {},
   "outputs": [],
   "source": [
    "#cd .. to go privious"
   ]
  },
  {
   "cell_type": "code",
   "execution_count": 26,
   "id": "cd46cef8-645e-4897-b87e-9a8faa9d247d",
   "metadata": {},
   "outputs": [
    {
     "data": {
      "text/plain": [
       "(100, 9)"
      ]
     },
     "execution_count": 26,
     "metadata": {},
     "output_type": "execute_result"
    }
   ],
   "source": [
    "data.shape"
   ]
  },
  {
   "cell_type": "code",
   "execution_count": 27,
   "id": "e2bca511-64e9-4d09-8674-b7ebf4512b4a",
   "metadata": {},
   "outputs": [
    {
     "name": "stdout",
     "output_type": "stream",
     "text": [
      "<class 'pandas.core.frame.DataFrame'>\n",
      "RangeIndex: 100 entries, 0 to 99\n",
      "Data columns (total 9 columns):\n",
      " #   Column          Non-Null Count  Dtype         \n",
      "---  ------          --------------  -----         \n",
      " 0   Region          100 non-null    object        \n",
      " 1   Country         100 non-null    object        \n",
      " 2   Item_Type       100 non-null    object        \n",
      " 3   Sales_Channel   100 non-null    object        \n",
      " 4   Order_Priority  100 non-null    object        \n",
      " 5   Ship_Date       100 non-null    datetime64[ns]\n",
      " 6   Unit_Cost       100 non-null    float64       \n",
      " 7   Total_Revenue   100 non-null    float64       \n",
      " 8   Total_Profit    100 non-null    float64       \n",
      "dtypes: datetime64[ns](1), float64(3), object(5)\n",
      "memory usage: 7.2+ KB\n"
     ]
    }
   ],
   "source": [
    "data.info()"
   ]
  },
  {
   "cell_type": "code",
   "execution_count": 29,
   "id": "33d188c9-221d-4d5c-9d6a-8b82c5f51635",
   "metadata": {},
   "outputs": [
    {
     "data": {
      "text/plain": [
       "0                 Australia and Oceania\n",
       "1     Central America and the Caribbean\n",
       "2                                Europe\n",
       "3                    Sub_Saharan Africa\n",
       "4                    Sub_Saharan Africa\n",
       "                    ...                \n",
       "95                   Sub_Saharan Africa\n",
       "96                                 Asia\n",
       "97                   Sub_Saharan Africa\n",
       "98                        North America\n",
       "99                   Sub_Saharan Africa\n",
       "Name: Region, Length: 100, dtype: object"
      ]
     },
     "execution_count": 29,
     "metadata": {},
     "output_type": "execute_result"
    }
   ],
   "source": [
    "data[\"Region\"]  #to acess one column single[]"
   ]
  },
  {
   "cell_type": "code",
   "execution_count": 30,
   "id": "6b4b9a36-39c5-4b1c-a9d5-286318b6c1c6",
   "metadata": {},
   "outputs": [
    {
     "data": {
      "text/html": [
       "<div>\n",
       "<style scoped>\n",
       "    .dataframe tbody tr th:only-of-type {\n",
       "        vertical-align: middle;\n",
       "    }\n",
       "\n",
       "    .dataframe tbody tr th {\n",
       "        vertical-align: top;\n",
       "    }\n",
       "\n",
       "    .dataframe thead th {\n",
       "        text-align: right;\n",
       "    }\n",
       "</style>\n",
       "<table border=\"1\" class=\"dataframe\">\n",
       "  <thead>\n",
       "    <tr style=\"text-align: right;\">\n",
       "      <th></th>\n",
       "      <th>Region</th>\n",
       "      <th>Country</th>\n",
       "      <th>Item_Type</th>\n",
       "    </tr>\n",
       "  </thead>\n",
       "  <tbody>\n",
       "    <tr>\n",
       "      <th>0</th>\n",
       "      <td>Australia and Oceania</td>\n",
       "      <td>Tuvalu</td>\n",
       "      <td>Baby Food</td>\n",
       "    </tr>\n",
       "    <tr>\n",
       "      <th>1</th>\n",
       "      <td>Central America and the Caribbean</td>\n",
       "      <td>Grenada</td>\n",
       "      <td>Cereal</td>\n",
       "    </tr>\n",
       "    <tr>\n",
       "      <th>2</th>\n",
       "      <td>Europe</td>\n",
       "      <td>Russia</td>\n",
       "      <td>Office Supplies</td>\n",
       "    </tr>\n",
       "    <tr>\n",
       "      <th>3</th>\n",
       "      <td>Sub_Saharan Africa</td>\n",
       "      <td>Sao Tome and Principe</td>\n",
       "      <td>Fruits</td>\n",
       "    </tr>\n",
       "    <tr>\n",
       "      <th>4</th>\n",
       "      <td>Sub_Saharan Africa</td>\n",
       "      <td>Rwanda</td>\n",
       "      <td>Office Supplies</td>\n",
       "    </tr>\n",
       "    <tr>\n",
       "      <th>...</th>\n",
       "      <td>...</td>\n",
       "      <td>...</td>\n",
       "      <td>...</td>\n",
       "    </tr>\n",
       "    <tr>\n",
       "      <th>95</th>\n",
       "      <td>Sub_Saharan Africa</td>\n",
       "      <td>Mali</td>\n",
       "      <td>Clothes</td>\n",
       "    </tr>\n",
       "    <tr>\n",
       "      <th>96</th>\n",
       "      <td>Asia</td>\n",
       "      <td>Malaysia</td>\n",
       "      <td>Fruits</td>\n",
       "    </tr>\n",
       "    <tr>\n",
       "      <th>97</th>\n",
       "      <td>Sub_Saharan Africa</td>\n",
       "      <td>Sierra Leone</td>\n",
       "      <td>Vegetables</td>\n",
       "    </tr>\n",
       "    <tr>\n",
       "      <th>98</th>\n",
       "      <td>North America</td>\n",
       "      <td>Mexico</td>\n",
       "      <td>Personal Care</td>\n",
       "    </tr>\n",
       "    <tr>\n",
       "      <th>99</th>\n",
       "      <td>Sub_Saharan Africa</td>\n",
       "      <td>Mozambique</td>\n",
       "      <td>Household</td>\n",
       "    </tr>\n",
       "  </tbody>\n",
       "</table>\n",
       "<p>100 rows × 3 columns</p>\n",
       "</div>"
      ],
      "text/plain": [
       "                               Region                Country        Item_Type\n",
       "0               Australia and Oceania                 Tuvalu        Baby Food\n",
       "1   Central America and the Caribbean                Grenada           Cereal\n",
       "2                              Europe                 Russia  Office Supplies\n",
       "3                  Sub_Saharan Africa  Sao Tome and Principe           Fruits\n",
       "4                  Sub_Saharan Africa                 Rwanda  Office Supplies\n",
       "..                                ...                    ...              ...\n",
       "95                 Sub_Saharan Africa                   Mali          Clothes\n",
       "96                               Asia               Malaysia           Fruits\n",
       "97                 Sub_Saharan Africa           Sierra Leone       Vegetables\n",
       "98                      North America                 Mexico    Personal Care\n",
       "99                 Sub_Saharan Africa             Mozambique        Household\n",
       "\n",
       "[100 rows x 3 columns]"
      ]
     },
     "execution_count": 30,
     "metadata": {},
     "output_type": "execute_result"
    }
   ],
   "source": [
    "data[[\"Region\",\"Country\",\"Item_Type\"]]  #use doubble[[]] to acess more than one column"
   ]
  },
  {
   "cell_type": "code",
   "execution_count": 31,
   "id": "14e940b4-a1c3-4d71-8445-0b024a24e019",
   "metadata": {},
   "outputs": [
    {
     "data": {
      "text/html": [
       "<div>\n",
       "<style scoped>\n",
       "    .dataframe tbody tr th:only-of-type {\n",
       "        vertical-align: middle;\n",
       "    }\n",
       "\n",
       "    .dataframe tbody tr th {\n",
       "        vertical-align: top;\n",
       "    }\n",
       "\n",
       "    .dataframe thead th {\n",
       "        text-align: right;\n",
       "    }\n",
       "</style>\n",
       "<table border=\"1\" class=\"dataframe\">\n",
       "  <thead>\n",
       "    <tr style=\"text-align: right;\">\n",
       "      <th></th>\n",
       "      <th>Region</th>\n",
       "      <th>Country</th>\n",
       "      <th>Item_Type</th>\n",
       "      <th>Sales_Channel</th>\n",
       "      <th>Order_Priority</th>\n",
       "      <th>Ship_Date</th>\n",
       "      <th>Unit_Cost</th>\n",
       "      <th>Total_Revenue</th>\n",
       "      <th>Total_Profit</th>\n",
       "    </tr>\n",
       "  </thead>\n",
       "  <tbody>\n",
       "    <tr>\n",
       "      <th>0</th>\n",
       "      <td>Australia and Oceania</td>\n",
       "      <td>Tuvalu</td>\n",
       "      <td>Baby Food</td>\n",
       "      <td>Offline</td>\n",
       "      <td>H</td>\n",
       "      <td>2010-06-27</td>\n",
       "      <td>159.42</td>\n",
       "      <td>2533654.00</td>\n",
       "      <td>951410.50</td>\n",
       "    </tr>\n",
       "    <tr>\n",
       "      <th>1</th>\n",
       "      <td>Central America and the Caribbean</td>\n",
       "      <td>Grenada</td>\n",
       "      <td>Cereal</td>\n",
       "      <td>Online</td>\n",
       "      <td>C</td>\n",
       "      <td>2012-09-15</td>\n",
       "      <td>117.11</td>\n",
       "      <td>576782.80</td>\n",
       "      <td>248406.36</td>\n",
       "    </tr>\n",
       "    <tr>\n",
       "      <th>2</th>\n",
       "      <td>Europe</td>\n",
       "      <td>Russia</td>\n",
       "      <td>Office Supplies</td>\n",
       "      <td>Offline</td>\n",
       "      <td>L</td>\n",
       "      <td>2014-08-05</td>\n",
       "      <td>524.96</td>\n",
       "      <td>1158502.59</td>\n",
       "      <td>224598.75</td>\n",
       "    </tr>\n",
       "    <tr>\n",
       "      <th>3</th>\n",
       "      <td>Sub_Saharan Africa</td>\n",
       "      <td>Sao Tome and Principe</td>\n",
       "      <td>Fruits</td>\n",
       "      <td>Online</td>\n",
       "      <td>C</td>\n",
       "      <td>2014-05-07</td>\n",
       "      <td>6.92</td>\n",
       "      <td>75591.66</td>\n",
       "      <td>19525.82</td>\n",
       "    </tr>\n",
       "    <tr>\n",
       "      <th>4</th>\n",
       "      <td>Sub_Saharan Africa</td>\n",
       "      <td>Rwanda</td>\n",
       "      <td>Office Supplies</td>\n",
       "      <td>Offline</td>\n",
       "      <td>L</td>\n",
       "      <td>2013-06-02</td>\n",
       "      <td>524.96</td>\n",
       "      <td>3296425.02</td>\n",
       "      <td>639077.50</td>\n",
       "    </tr>\n",
       "  </tbody>\n",
       "</table>\n",
       "</div>"
      ],
      "text/plain": [
       "                              Region                Country        Item_Type  \\\n",
       "0              Australia and Oceania                 Tuvalu        Baby Food   \n",
       "1  Central America and the Caribbean                Grenada           Cereal   \n",
       "2                             Europe                 Russia  Office Supplies   \n",
       "3                 Sub_Saharan Africa  Sao Tome and Principe           Fruits   \n",
       "4                 Sub_Saharan Africa                 Rwanda  Office Supplies   \n",
       "\n",
       "  Sales_Channel Order_Priority  Ship_Date  Unit_Cost  Total_Revenue  \\\n",
       "0       Offline              H 2010-06-27     159.42     2533654.00   \n",
       "1        Online              C 2012-09-15     117.11      576782.80   \n",
       "2       Offline              L 2014-08-05     524.96     1158502.59   \n",
       "3        Online              C 2014-05-07       6.92       75591.66   \n",
       "4       Offline              L 2013-06-02     524.96     3296425.02   \n",
       "\n",
       "   Total_Profit  \n",
       "0     951410.50  \n",
       "1     248406.36  \n",
       "2     224598.75  \n",
       "3      19525.82  \n",
       "4     639077.50  "
      ]
     },
     "execution_count": 31,
     "metadata": {},
     "output_type": "execute_result"
    }
   ],
   "source": [
    "data.head()"
   ]
  },
  {
   "cell_type": "code",
   "execution_count": 32,
   "id": "b1aa4430-b206-437f-82ac-f84b06b55e0f",
   "metadata": {},
   "outputs": [
    {
     "data": {
      "text/html": [
       "<div>\n",
       "<style scoped>\n",
       "    .dataframe tbody tr th:only-of-type {\n",
       "        vertical-align: middle;\n",
       "    }\n",
       "\n",
       "    .dataframe tbody tr th {\n",
       "        vertical-align: top;\n",
       "    }\n",
       "\n",
       "    .dataframe thead th {\n",
       "        text-align: right;\n",
       "    }\n",
       "</style>\n",
       "<table border=\"1\" class=\"dataframe\">\n",
       "  <thead>\n",
       "    <tr style=\"text-align: right;\">\n",
       "      <th></th>\n",
       "      <th>Region</th>\n",
       "      <th>Country</th>\n",
       "      <th>Item_Type</th>\n",
       "      <th>Sales_Channel</th>\n",
       "      <th>Order_Priority</th>\n",
       "      <th>Ship_Date</th>\n",
       "      <th>Unit_Cost</th>\n",
       "      <th>Total_Revenue</th>\n",
       "      <th>Total_Profit</th>\n",
       "    </tr>\n",
       "  </thead>\n",
       "  <tbody>\n",
       "    <tr>\n",
       "      <th>95</th>\n",
       "      <td>Sub_Saharan Africa</td>\n",
       "      <td>Mali</td>\n",
       "      <td>Clothes</td>\n",
       "      <td>Online</td>\n",
       "      <td>M</td>\n",
       "      <td>2011-03-09</td>\n",
       "      <td>35.84</td>\n",
       "      <td>97040.64</td>\n",
       "      <td>65214.72</td>\n",
       "    </tr>\n",
       "    <tr>\n",
       "      <th>96</th>\n",
       "      <td>Asia</td>\n",
       "      <td>Malaysia</td>\n",
       "      <td>Fruits</td>\n",
       "      <td>Offline</td>\n",
       "      <td>L</td>\n",
       "      <td>2011-12-28</td>\n",
       "      <td>6.92</td>\n",
       "      <td>58471.11</td>\n",
       "      <td>15103.47</td>\n",
       "    </tr>\n",
       "    <tr>\n",
       "      <th>97</th>\n",
       "      <td>Sub_Saharan Africa</td>\n",
       "      <td>Sierra Leone</td>\n",
       "      <td>Vegetables</td>\n",
       "      <td>Offline</td>\n",
       "      <td>C</td>\n",
       "      <td>2016-06-29</td>\n",
       "      <td>90.93</td>\n",
       "      <td>228779.10</td>\n",
       "      <td>93748.05</td>\n",
       "    </tr>\n",
       "    <tr>\n",
       "      <th>98</th>\n",
       "      <td>North America</td>\n",
       "      <td>Mexico</td>\n",
       "      <td>Personal Care</td>\n",
       "      <td>Offline</td>\n",
       "      <td>M</td>\n",
       "      <td>2015-08-08</td>\n",
       "      <td>56.67</td>\n",
       "      <td>471336.91</td>\n",
       "      <td>144521.02</td>\n",
       "    </tr>\n",
       "    <tr>\n",
       "      <th>99</th>\n",
       "      <td>Sub_Saharan Africa</td>\n",
       "      <td>Mozambique</td>\n",
       "      <td>Household</td>\n",
       "      <td>Offline</td>\n",
       "      <td>L</td>\n",
       "      <td>2012-02-15</td>\n",
       "      <td>502.54</td>\n",
       "      <td>3586605.09</td>\n",
       "      <td>889472.91</td>\n",
       "    </tr>\n",
       "  </tbody>\n",
       "</table>\n",
       "</div>"
      ],
      "text/plain": [
       "                Region       Country      Item_Type Sales_Channel  \\\n",
       "95  Sub_Saharan Africa          Mali        Clothes        Online   \n",
       "96                Asia      Malaysia         Fruits       Offline   \n",
       "97  Sub_Saharan Africa  Sierra Leone     Vegetables       Offline   \n",
       "98       North America        Mexico  Personal Care       Offline   \n",
       "99  Sub_Saharan Africa    Mozambique      Household       Offline   \n",
       "\n",
       "   Order_Priority  Ship_Date  Unit_Cost  Total_Revenue  Total_Profit  \n",
       "95              M 2011-03-09      35.84       97040.64      65214.72  \n",
       "96              L 2011-12-28       6.92       58471.11      15103.47  \n",
       "97              C 2016-06-29      90.93      228779.10      93748.05  \n",
       "98              M 2015-08-08      56.67      471336.91     144521.02  \n",
       "99              L 2012-02-15     502.54     3586605.09     889472.91  "
      ]
     },
     "execution_count": 32,
     "metadata": {},
     "output_type": "execute_result"
    }
   ],
   "source": [
    "data.tail()"
   ]
  },
  {
   "cell_type": "markdown",
   "id": "2bc5b358-8dbb-4ce2-bcac-270a4f36dfd4",
   "metadata": {},
   "source": [
    "# loc (location)"
   ]
  },
  {
   "cell_type": "code",
   "execution_count": 35,
   "id": "de92052d-ed53-4a36-99b4-7e0dc43870ff",
   "metadata": {},
   "outputs": [
    {
     "data": {
      "text/html": [
       "<div>\n",
       "<style scoped>\n",
       "    .dataframe tbody tr th:only-of-type {\n",
       "        vertical-align: middle;\n",
       "    }\n",
       "\n",
       "    .dataframe tbody tr th {\n",
       "        vertical-align: top;\n",
       "    }\n",
       "\n",
       "    .dataframe thead th {\n",
       "        text-align: right;\n",
       "    }\n",
       "</style>\n",
       "<table border=\"1\" class=\"dataframe\">\n",
       "  <thead>\n",
       "    <tr style=\"text-align: right;\">\n",
       "      <th></th>\n",
       "      <th>Region</th>\n",
       "      <th>Country</th>\n",
       "      <th>Item_Type</th>\n",
       "      <th>Sales_Channel</th>\n",
       "      <th>Order_Priority</th>\n",
       "      <th>Ship_Date</th>\n",
       "      <th>Unit_Cost</th>\n",
       "      <th>Total_Revenue</th>\n",
       "      <th>Total_Profit</th>\n",
       "    </tr>\n",
       "  </thead>\n",
       "  <tbody>\n",
       "    <tr>\n",
       "      <th>1</th>\n",
       "      <td>Central America and the Caribbean</td>\n",
       "      <td>Grenada</td>\n",
       "      <td>Cereal</td>\n",
       "      <td>Online</td>\n",
       "      <td>C</td>\n",
       "      <td>2012-09-15</td>\n",
       "      <td>117.11</td>\n",
       "      <td>576782.8</td>\n",
       "      <td>248406.36</td>\n",
       "    </tr>\n",
       "  </tbody>\n",
       "</table>\n",
       "</div>"
      ],
      "text/plain": [
       "                              Region  Country Item_Type Sales_Channel  \\\n",
       "1  Central America and the Caribbean  Grenada    Cereal        Online   \n",
       "\n",
       "  Order_Priority  Ship_Date  Unit_Cost  Total_Revenue  Total_Profit  \n",
       "1              C 2012-09-15     117.11       576782.8     248406.36  "
      ]
     },
     "execution_count": 35,
     "metadata": {},
     "output_type": "execute_result"
    }
   ],
   "source": [
    "data.loc[[1]]"
   ]
  },
  {
   "cell_type": "code",
   "execution_count": 40,
   "id": "bff32fbb-6802-43cc-832b-8fe6cab5d56e",
   "metadata": {},
   "outputs": [
    {
     "data": {
      "text/html": [
       "<div>\n",
       "<style scoped>\n",
       "    .dataframe tbody tr th:only-of-type {\n",
       "        vertical-align: middle;\n",
       "    }\n",
       "\n",
       "    .dataframe tbody tr th {\n",
       "        vertical-align: top;\n",
       "    }\n",
       "\n",
       "    .dataframe thead th {\n",
       "        text-align: right;\n",
       "    }\n",
       "</style>\n",
       "<table border=\"1\" class=\"dataframe\">\n",
       "  <thead>\n",
       "    <tr style=\"text-align: right;\">\n",
       "      <th></th>\n",
       "      <th>Region</th>\n",
       "      <th>Country</th>\n",
       "      <th>Item_Type</th>\n",
       "      <th>Sales_Channel</th>\n",
       "      <th>Order_Priority</th>\n",
       "      <th>Ship_Date</th>\n",
       "      <th>Unit_Cost</th>\n",
       "      <th>Total_Revenue</th>\n",
       "      <th>Total_Profit</th>\n",
       "    </tr>\n",
       "  </thead>\n",
       "  <tbody>\n",
       "    <tr>\n",
       "      <th>1</th>\n",
       "      <td>Central America and the Caribbean</td>\n",
       "      <td>Grenada</td>\n",
       "      <td>Cereal</td>\n",
       "      <td>Online</td>\n",
       "      <td>C</td>\n",
       "      <td>2012-09-15</td>\n",
       "      <td>117.11</td>\n",
       "      <td>576782.80</td>\n",
       "      <td>248406.36</td>\n",
       "    </tr>\n",
       "    <tr>\n",
       "      <th>2</th>\n",
       "      <td>Europe</td>\n",
       "      <td>Russia</td>\n",
       "      <td>Office Supplies</td>\n",
       "      <td>Offline</td>\n",
       "      <td>L</td>\n",
       "      <td>2014-08-05</td>\n",
       "      <td>524.96</td>\n",
       "      <td>1158502.59</td>\n",
       "      <td>224598.75</td>\n",
       "    </tr>\n",
       "    <tr>\n",
       "      <th>4</th>\n",
       "      <td>Sub_Saharan Africa</td>\n",
       "      <td>Rwanda</td>\n",
       "      <td>Office Supplies</td>\n",
       "      <td>Offline</td>\n",
       "      <td>L</td>\n",
       "      <td>2013-06-02</td>\n",
       "      <td>524.96</td>\n",
       "      <td>3296425.02</td>\n",
       "      <td>639077.50</td>\n",
       "    </tr>\n",
       "  </tbody>\n",
       "</table>\n",
       "</div>"
      ],
      "text/plain": [
       "                              Region  Country        Item_Type Sales_Channel  \\\n",
       "1  Central America and the Caribbean  Grenada           Cereal        Online   \n",
       "2                             Europe   Russia  Office Supplies       Offline   \n",
       "4                 Sub_Saharan Africa   Rwanda  Office Supplies       Offline   \n",
       "\n",
       "  Order_Priority  Ship_Date  Unit_Cost  Total_Revenue  Total_Profit  \n",
       "1              C 2012-09-15     117.11      576782.80     248406.36  \n",
       "2              L 2014-08-05     524.96     1158502.59     224598.75  \n",
       "4              L 2013-06-02     524.96     3296425.02     639077.50  "
      ]
     },
     "execution_count": 40,
     "metadata": {},
     "output_type": "execute_result"
    }
   ],
   "source": [
    "data.loc[[1,2,4]]"
   ]
  },
  {
   "cell_type": "code",
   "execution_count": 39,
   "id": "dacd0bb2-f7f5-4d72-b897-fc1a95e6325a",
   "metadata": {},
   "outputs": [
    {
     "data": {
      "text/html": [
       "<div>\n",
       "<style scoped>\n",
       "    .dataframe tbody tr th:only-of-type {\n",
       "        vertical-align: middle;\n",
       "    }\n",
       "\n",
       "    .dataframe tbody tr th {\n",
       "        vertical-align: top;\n",
       "    }\n",
       "\n",
       "    .dataframe thead th {\n",
       "        text-align: right;\n",
       "    }\n",
       "</style>\n",
       "<table border=\"1\" class=\"dataframe\">\n",
       "  <thead>\n",
       "    <tr style=\"text-align: right;\">\n",
       "      <th></th>\n",
       "      <th>Region</th>\n",
       "      <th>Country</th>\n",
       "      <th>Item_Type</th>\n",
       "      <th>Sales_Channel</th>\n",
       "      <th>Order_Priority</th>\n",
       "      <th>Ship_Date</th>\n",
       "      <th>Unit_Cost</th>\n",
       "      <th>Total_Revenue</th>\n",
       "      <th>Total_Profit</th>\n",
       "    </tr>\n",
       "  </thead>\n",
       "  <tbody>\n",
       "    <tr>\n",
       "      <th>0</th>\n",
       "      <td>Australia and Oceania</td>\n",
       "      <td>Tuvalu</td>\n",
       "      <td>Baby Food</td>\n",
       "      <td>Offline</td>\n",
       "      <td>H</td>\n",
       "      <td>2010-06-27</td>\n",
       "      <td>159.42</td>\n",
       "      <td>2533654.00</td>\n",
       "      <td>951410.50</td>\n",
       "    </tr>\n",
       "    <tr>\n",
       "      <th>1</th>\n",
       "      <td>Central America and the Caribbean</td>\n",
       "      <td>Grenada</td>\n",
       "      <td>Cereal</td>\n",
       "      <td>Online</td>\n",
       "      <td>C</td>\n",
       "      <td>2012-09-15</td>\n",
       "      <td>117.11</td>\n",
       "      <td>576782.80</td>\n",
       "      <td>248406.36</td>\n",
       "    </tr>\n",
       "    <tr>\n",
       "      <th>2</th>\n",
       "      <td>Europe</td>\n",
       "      <td>Russia</td>\n",
       "      <td>Office Supplies</td>\n",
       "      <td>Offline</td>\n",
       "      <td>L</td>\n",
       "      <td>2014-08-05</td>\n",
       "      <td>524.96</td>\n",
       "      <td>1158502.59</td>\n",
       "      <td>224598.75</td>\n",
       "    </tr>\n",
       "    <tr>\n",
       "      <th>3</th>\n",
       "      <td>Sub_Saharan Africa</td>\n",
       "      <td>Sao Tome and Principe</td>\n",
       "      <td>Fruits</td>\n",
       "      <td>Online</td>\n",
       "      <td>C</td>\n",
       "      <td>2014-05-07</td>\n",
       "      <td>6.92</td>\n",
       "      <td>75591.66</td>\n",
       "      <td>19525.82</td>\n",
       "    </tr>\n",
       "    <tr>\n",
       "      <th>4</th>\n",
       "      <td>Sub_Saharan Africa</td>\n",
       "      <td>Rwanda</td>\n",
       "      <td>Office Supplies</td>\n",
       "      <td>Offline</td>\n",
       "      <td>L</td>\n",
       "      <td>2013-06-02</td>\n",
       "      <td>524.96</td>\n",
       "      <td>3296425.02</td>\n",
       "      <td>639077.50</td>\n",
       "    </tr>\n",
       "    <tr>\n",
       "      <th>...</th>\n",
       "      <td>...</td>\n",
       "      <td>...</td>\n",
       "      <td>...</td>\n",
       "      <td>...</td>\n",
       "      <td>...</td>\n",
       "      <td>...</td>\n",
       "      <td>...</td>\n",
       "      <td>...</td>\n",
       "      <td>...</td>\n",
       "    </tr>\n",
       "    <tr>\n",
       "      <th>95</th>\n",
       "      <td>Sub_Saharan Africa</td>\n",
       "      <td>Mali</td>\n",
       "      <td>Clothes</td>\n",
       "      <td>Online</td>\n",
       "      <td>M</td>\n",
       "      <td>2011-03-09</td>\n",
       "      <td>35.84</td>\n",
       "      <td>97040.64</td>\n",
       "      <td>65214.72</td>\n",
       "    </tr>\n",
       "    <tr>\n",
       "      <th>96</th>\n",
       "      <td>Asia</td>\n",
       "      <td>Malaysia</td>\n",
       "      <td>Fruits</td>\n",
       "      <td>Offline</td>\n",
       "      <td>L</td>\n",
       "      <td>2011-12-28</td>\n",
       "      <td>6.92</td>\n",
       "      <td>58471.11</td>\n",
       "      <td>15103.47</td>\n",
       "    </tr>\n",
       "    <tr>\n",
       "      <th>97</th>\n",
       "      <td>Sub_Saharan Africa</td>\n",
       "      <td>Sierra Leone</td>\n",
       "      <td>Vegetables</td>\n",
       "      <td>Offline</td>\n",
       "      <td>C</td>\n",
       "      <td>2016-06-29</td>\n",
       "      <td>90.93</td>\n",
       "      <td>228779.10</td>\n",
       "      <td>93748.05</td>\n",
       "    </tr>\n",
       "    <tr>\n",
       "      <th>98</th>\n",
       "      <td>North America</td>\n",
       "      <td>Mexico</td>\n",
       "      <td>Personal Care</td>\n",
       "      <td>Offline</td>\n",
       "      <td>M</td>\n",
       "      <td>2015-08-08</td>\n",
       "      <td>56.67</td>\n",
       "      <td>471336.91</td>\n",
       "      <td>144521.02</td>\n",
       "    </tr>\n",
       "    <tr>\n",
       "      <th>99</th>\n",
       "      <td>Sub_Saharan Africa</td>\n",
       "      <td>Mozambique</td>\n",
       "      <td>Household</td>\n",
       "      <td>Offline</td>\n",
       "      <td>L</td>\n",
       "      <td>2012-02-15</td>\n",
       "      <td>502.54</td>\n",
       "      <td>3586605.09</td>\n",
       "      <td>889472.91</td>\n",
       "    </tr>\n",
       "  </tbody>\n",
       "</table>\n",
       "<p>100 rows × 9 columns</p>\n",
       "</div>"
      ],
      "text/plain": [
       "                               Region                Country        Item_Type  \\\n",
       "0               Australia and Oceania                 Tuvalu        Baby Food   \n",
       "1   Central America and the Caribbean                Grenada           Cereal   \n",
       "2                              Europe                 Russia  Office Supplies   \n",
       "3                  Sub_Saharan Africa  Sao Tome and Principe           Fruits   \n",
       "4                  Sub_Saharan Africa                 Rwanda  Office Supplies   \n",
       "..                                ...                    ...              ...   \n",
       "95                 Sub_Saharan Africa                   Mali          Clothes   \n",
       "96                               Asia               Malaysia           Fruits   \n",
       "97                 Sub_Saharan Africa           Sierra Leone       Vegetables   \n",
       "98                      North America                 Mexico    Personal Care   \n",
       "99                 Sub_Saharan Africa             Mozambique        Household   \n",
       "\n",
       "   Sales_Channel Order_Priority  Ship_Date  Unit_Cost  Total_Revenue  \\\n",
       "0        Offline              H 2010-06-27     159.42     2533654.00   \n",
       "1         Online              C 2012-09-15     117.11      576782.80   \n",
       "2        Offline              L 2014-08-05     524.96     1158502.59   \n",
       "3         Online              C 2014-05-07       6.92       75591.66   \n",
       "4        Offline              L 2013-06-02     524.96     3296425.02   \n",
       "..           ...            ...        ...        ...            ...   \n",
       "95        Online              M 2011-03-09      35.84       97040.64   \n",
       "96       Offline              L 2011-12-28       6.92       58471.11   \n",
       "97       Offline              C 2016-06-29      90.93      228779.10   \n",
       "98       Offline              M 2015-08-08      56.67      471336.91   \n",
       "99       Offline              L 2012-02-15     502.54     3586605.09   \n",
       "\n",
       "    Total_Profit  \n",
       "0      951410.50  \n",
       "1      248406.36  \n",
       "2      224598.75  \n",
       "3       19525.82  \n",
       "4      639077.50  \n",
       "..           ...  \n",
       "95      65214.72  \n",
       "96      15103.47  \n",
       "97      93748.05  \n",
       "98     144521.02  \n",
       "99     889472.91  \n",
       "\n",
       "[100 rows x 9 columns]"
      ]
     },
     "execution_count": 39,
     "metadata": {},
     "output_type": "execute_result"
    }
   ],
   "source": [
    "data"
   ]
  },
  {
   "cell_type": "code",
   "execution_count": null,
   "id": "b580e401-b951-495b-8efc-36d28ddae210",
   "metadata": {},
   "outputs": [],
   "source": []
  },
  {
   "cell_type": "markdown",
   "id": "64373472-3a20-43b5-b88f-3e4725e1379a",
   "metadata": {},
   "source": [
    "# iloc (index location)"
   ]
  },
  {
   "cell_type": "code",
   "execution_count": 42,
   "id": "62c5b706-2d50-42fc-b7e8-c8fd50a1a03d",
   "metadata": {},
   "outputs": [
    {
     "data": {
      "text/html": [
       "<div>\n",
       "<style scoped>\n",
       "    .dataframe tbody tr th:only-of-type {\n",
       "        vertical-align: middle;\n",
       "    }\n",
       "\n",
       "    .dataframe tbody tr th {\n",
       "        vertical-align: top;\n",
       "    }\n",
       "\n",
       "    .dataframe thead th {\n",
       "        text-align: right;\n",
       "    }\n",
       "</style>\n",
       "<table border=\"1\" class=\"dataframe\">\n",
       "  <thead>\n",
       "    <tr style=\"text-align: right;\">\n",
       "      <th></th>\n",
       "      <th>Region</th>\n",
       "      <th>Country</th>\n",
       "      <th>Item_Type</th>\n",
       "      <th>Sales_Channel</th>\n",
       "      <th>Order_Priority</th>\n",
       "      <th>Ship_Date</th>\n",
       "      <th>Unit_Cost</th>\n",
       "      <th>Total_Revenue</th>\n",
       "      <th>Total_Profit</th>\n",
       "    </tr>\n",
       "  </thead>\n",
       "  <tbody>\n",
       "    <tr>\n",
       "      <th>2</th>\n",
       "      <td>Europe</td>\n",
       "      <td>Russia</td>\n",
       "      <td>Office Supplies</td>\n",
       "      <td>Offline</td>\n",
       "      <td>L</td>\n",
       "      <td>2014-08-05</td>\n",
       "      <td>524.96</td>\n",
       "      <td>1158502.59</td>\n",
       "      <td>224598.75</td>\n",
       "    </tr>\n",
       "    <tr>\n",
       "      <th>4</th>\n",
       "      <td>Sub_Saharan Africa</td>\n",
       "      <td>Rwanda</td>\n",
       "      <td>Office Supplies</td>\n",
       "      <td>Offline</td>\n",
       "      <td>L</td>\n",
       "      <td>2013-06-02</td>\n",
       "      <td>524.96</td>\n",
       "      <td>3296425.02</td>\n",
       "      <td>639077.50</td>\n",
       "    </tr>\n",
       "  </tbody>\n",
       "</table>\n",
       "</div>"
      ],
      "text/plain": [
       "               Region Country        Item_Type Sales_Channel Order_Priority  \\\n",
       "2              Europe  Russia  Office Supplies       Offline              L   \n",
       "4  Sub_Saharan Africa  Rwanda  Office Supplies       Offline              L   \n",
       "\n",
       "   Ship_Date  Unit_Cost  Total_Revenue  Total_Profit  \n",
       "2 2014-08-05     524.96     1158502.59     224598.75  \n",
       "4 2013-06-02     524.96     3296425.02     639077.50  "
      ]
     },
     "execution_count": 42,
     "metadata": {},
     "output_type": "execute_result"
    }
   ],
   "source": [
    "data.iloc[2,4]"
   ]
  },
  {
   "cell_type": "code",
   "execution_count": 43,
   "id": "c7cce95c-502d-4bde-9b38-58f461d38ce3",
   "metadata": {},
   "outputs": [
    {
     "data": {
      "text/html": [
       "<div>\n",
       "<style scoped>\n",
       "    .dataframe tbody tr th:only-of-type {\n",
       "        vertical-align: middle;\n",
       "    }\n",
       "\n",
       "    .dataframe tbody tr th {\n",
       "        vertical-align: top;\n",
       "    }\n",
       "\n",
       "    .dataframe thead th {\n",
       "        text-align: right;\n",
       "    }\n",
       "</style>\n",
       "<table border=\"1\" class=\"dataframe\">\n",
       "  <thead>\n",
       "    <tr style=\"text-align: right;\">\n",
       "      <th></th>\n",
       "      <th>Order_Priority</th>\n",
       "      <th>Item_Type</th>\n",
       "      <th>Sales_Channel</th>\n",
       "    </tr>\n",
       "  </thead>\n",
       "  <tbody>\n",
       "    <tr>\n",
       "      <th>2</th>\n",
       "      <td>L</td>\n",
       "      <td>Office Supplies</td>\n",
       "      <td>Offline</td>\n",
       "    </tr>\n",
       "    <tr>\n",
       "      <th>5</th>\n",
       "      <td>C</td>\n",
       "      <td>Baby Food</td>\n",
       "      <td>Online</td>\n",
       "    </tr>\n",
       "    <tr>\n",
       "      <th>7</th>\n",
       "      <td>H</td>\n",
       "      <td>Vegetables</td>\n",
       "      <td>Online</td>\n",
       "    </tr>\n",
       "  </tbody>\n",
       "</table>\n",
       "</div>"
      ],
      "text/plain": [
       "  Order_Priority        Item_Type Sales_Channel\n",
       "2              L  Office Supplies       Offline\n",
       "5              C        Baby Food        Online\n",
       "7              H       Vegetables        Online"
      ]
     },
     "execution_count": 43,
     "metadata": {},
     "output_type": "execute_result"
    }
   ],
   "source": [
    "data.iloc[[2,5,7],[4,2,3]]"
   ]
  },
  {
   "cell_type": "code",
   "execution_count": null,
   "id": "72498933-2214-45c4-add7-b9f9a9dc9b77",
   "metadata": {},
   "outputs": [],
   "source": []
  }
 ],
 "metadata": {
  "kernelspec": {
   "display_name": "Python 3 (ipykernel)",
   "language": "python",
   "name": "python3"
  },
  "language_info": {
   "codemirror_mode": {
    "name": "ipython",
    "version": 3
   },
   "file_extension": ".py",
   "mimetype": "text/x-python",
   "name": "python",
   "nbconvert_exporter": "python",
   "pygments_lexer": "ipython3",
   "version": "3.12.4"
  }
 },
 "nbformat": 4,
 "nbformat_minor": 5
}
